{
 "cells": [
  {
   "cell_type": "markdown",
   "id": "922c66d2",
   "metadata": {},
   "source": [
    "## 1. IMPORTING LIBRARIES"
   ]
  },
  {
   "cell_type": "code",
   "execution_count": 81,
   "id": "7aee2857",
   "metadata": {},
   "outputs": [],
   "source": [
    "# Basic Library Imports\n",
    "import numpy as np\n",
    "import pandas as pd\n",
    "import matplotlib.pyplot as plt\n",
    "import seaborn as sns\n",
    "from scipy.stats import skew\n",
    "from scipy.stats import uniform, randint\n",
    "# FEATURE ENGINNERING\n",
    "from sklearn.preprocessing import LabelEncoder\n",
    "\n",
    "from sklearn.preprocessing import StandardScaler\n",
    "\n",
    "# MODELLING\n",
    "from sklearn.model_selection import GridSearchCV, train_test_split ,RandomizedSearchCV\n",
    "from sklearn.linear_model import LinearRegression, Ridge, Lasso, ElasticNet\n",
    "from sklearn.tree import DecisionTreeRegressor\n",
    "from xgboost import XGBRegressor\n",
    "from catboost import CatBoostRegressor\n",
    "from sklearn.ensemble import GradientBoostingRegressor , AdaBoostRegressor ,RandomForestRegressor\n",
    "from lightgbm import LGBMRegressor\n",
    "from sklearn.svm import SVR\n",
    "from sklearn.metrics import mean_squared_error\n",
    "\n",
    "\n",
    "\n",
    "# WARNINGS\n",
    "import warnings\n",
    "warnings.filterwarnings(\"ignore\", category=DeprecationWarning)\n",
    "warnings.filterwarnings(\"ignore\")"
   ]
  },
  {
   "cell_type": "markdown",
   "id": "2d2f3274",
   "metadata": {},
   "source": [
    "## 2. READING AND CHECKING DATA "
   ]
  },
  {
   "cell_type": "code",
   "execution_count": 170,
   "id": "1c0711f2",
   "metadata": {},
   "outputs": [],
   "source": [
    "# Reading data\n",
    "df = pd.read_csv('final_data.csv')"
   ]
  },
  {
   "cell_type": "code",
   "execution_count": 83,
   "id": "43240254",
   "metadata": {},
   "outputs": [
    {
     "data": {
      "text/html": [
       "<div>\n",
       "<style scoped>\n",
       "    .dataframe tbody tr th:only-of-type {\n",
       "        vertical-align: middle;\n",
       "    }\n",
       "\n",
       "    .dataframe tbody tr th {\n",
       "        vertical-align: top;\n",
       "    }\n",
       "\n",
       "    .dataframe thead th {\n",
       "        text-align: right;\n",
       "    }\n",
       "</style>\n",
       "<table border=\"1\" class=\"dataframe\">\n",
       "  <thead>\n",
       "    <tr style=\"text-align: right;\">\n",
       "      <th></th>\n",
       "      <th>player</th>\n",
       "      <th>team</th>\n",
       "      <th>name</th>\n",
       "      <th>position</th>\n",
       "      <th>height</th>\n",
       "      <th>age</th>\n",
       "      <th>appearance</th>\n",
       "      <th>goals</th>\n",
       "      <th>assists</th>\n",
       "      <th>yellow cards</th>\n",
       "      <th>second yellow cards</th>\n",
       "      <th>red cards</th>\n",
       "      <th>goals conceded</th>\n",
       "      <th>clean sheets</th>\n",
       "      <th>minutes played</th>\n",
       "      <th>days_injured</th>\n",
       "      <th>games_injured</th>\n",
       "      <th>award</th>\n",
       "      <th>current_value</th>\n",
       "      <th>highest_value</th>\n",
       "      <th>position_encoded</th>\n",
       "      <th>winger</th>\n",
       "    </tr>\n",
       "  </thead>\n",
       "  <tbody>\n",
       "    <tr>\n",
       "      <th>0</th>\n",
       "      <td>/david-de-gea/profil/spieler/59377</td>\n",
       "      <td>Manchester United</td>\n",
       "      <td>David de Gea</td>\n",
       "      <td>Goalkeeper</td>\n",
       "      <td>189.0</td>\n",
       "      <td>32.0</td>\n",
       "      <td>104</td>\n",
       "      <td>0.000000</td>\n",
       "      <td>0.000000</td>\n",
       "      <td>0.009585</td>\n",
       "      <td>0.0</td>\n",
       "      <td>0.0</td>\n",
       "      <td>1.217252</td>\n",
       "      <td>0.335463</td>\n",
       "      <td>9390</td>\n",
       "      <td>42</td>\n",
       "      <td>5</td>\n",
       "      <td>13</td>\n",
       "      <td>15000000</td>\n",
       "      <td>70000000</td>\n",
       "      <td>1</td>\n",
       "      <td>0</td>\n",
       "    </tr>\n",
       "    <tr>\n",
       "      <th>1</th>\n",
       "      <td>/jack-butland/profil/spieler/128899</td>\n",
       "      <td>Manchester United</td>\n",
       "      <td>Jack Butland</td>\n",
       "      <td>Goalkeeper</td>\n",
       "      <td>196.0</td>\n",
       "      <td>30.0</td>\n",
       "      <td>15</td>\n",
       "      <td>0.000000</td>\n",
       "      <td>0.000000</td>\n",
       "      <td>0.069018</td>\n",
       "      <td>0.0</td>\n",
       "      <td>0.0</td>\n",
       "      <td>1.242331</td>\n",
       "      <td>0.207055</td>\n",
       "      <td>1304</td>\n",
       "      <td>510</td>\n",
       "      <td>58</td>\n",
       "      <td>1</td>\n",
       "      <td>1500000</td>\n",
       "      <td>22000000</td>\n",
       "      <td>1</td>\n",
       "      <td>0</td>\n",
       "    </tr>\n",
       "    <tr>\n",
       "      <th>2</th>\n",
       "      <td>/tom-heaton/profil/spieler/34130</td>\n",
       "      <td>Manchester United</td>\n",
       "      <td>Tom Heaton</td>\n",
       "      <td>Goalkeeper</td>\n",
       "      <td>188.0</td>\n",
       "      <td>37.0</td>\n",
       "      <td>4</td>\n",
       "      <td>0.000000</td>\n",
       "      <td>0.000000</td>\n",
       "      <td>0.000000</td>\n",
       "      <td>0.0</td>\n",
       "      <td>0.0</td>\n",
       "      <td>0.616438</td>\n",
       "      <td>0.924658</td>\n",
       "      <td>292</td>\n",
       "      <td>697</td>\n",
       "      <td>84</td>\n",
       "      <td>4</td>\n",
       "      <td>600000</td>\n",
       "      <td>6000000</td>\n",
       "      <td>1</td>\n",
       "      <td>0</td>\n",
       "    </tr>\n",
       "    <tr>\n",
       "      <th>3</th>\n",
       "      <td>/lisandro-martinez/profil/spieler/480762</td>\n",
       "      <td>Manchester United</td>\n",
       "      <td>Lisandro Martínez</td>\n",
       "      <td>Defender Centre-Back</td>\n",
       "      <td>175.0</td>\n",
       "      <td>25.0</td>\n",
       "      <td>82</td>\n",
       "      <td>0.028090</td>\n",
       "      <td>0.056180</td>\n",
       "      <td>0.224719</td>\n",
       "      <td>0.0</td>\n",
       "      <td>0.0</td>\n",
       "      <td>0.000000</td>\n",
       "      <td>0.000000</td>\n",
       "      <td>6408</td>\n",
       "      <td>175</td>\n",
       "      <td>22</td>\n",
       "      <td>9</td>\n",
       "      <td>50000000</td>\n",
       "      <td>50000000</td>\n",
       "      <td>2</td>\n",
       "      <td>0</td>\n",
       "    </tr>\n",
       "    <tr>\n",
       "      <th>4</th>\n",
       "      <td>/raphael-varane/profil/spieler/164770</td>\n",
       "      <td>Manchester United</td>\n",
       "      <td>Raphaël Varane</td>\n",
       "      <td>Defender Centre-Back</td>\n",
       "      <td>191.0</td>\n",
       "      <td>30.0</td>\n",
       "      <td>63</td>\n",
       "      <td>0.017889</td>\n",
       "      <td>0.017889</td>\n",
       "      <td>0.053667</td>\n",
       "      <td>0.0</td>\n",
       "      <td>0.0</td>\n",
       "      <td>0.000000</td>\n",
       "      <td>0.000000</td>\n",
       "      <td>5031</td>\n",
       "      <td>238</td>\n",
       "      <td>51</td>\n",
       "      <td>21</td>\n",
       "      <td>40000000</td>\n",
       "      <td>80000000</td>\n",
       "      <td>2</td>\n",
       "      <td>0</td>\n",
       "    </tr>\n",
       "  </tbody>\n",
       "</table>\n",
       "</div>"
      ],
      "text/plain": [
       "                                     player               team  \\\n",
       "0        /david-de-gea/profil/spieler/59377  Manchester United   \n",
       "1       /jack-butland/profil/spieler/128899  Manchester United   \n",
       "2          /tom-heaton/profil/spieler/34130  Manchester United   \n",
       "3  /lisandro-martinez/profil/spieler/480762  Manchester United   \n",
       "4     /raphael-varane/profil/spieler/164770  Manchester United   \n",
       "\n",
       "                name              position  height   age  appearance  \\\n",
       "0       David de Gea            Goalkeeper   189.0  32.0         104   \n",
       "1       Jack Butland            Goalkeeper   196.0  30.0          15   \n",
       "2         Tom Heaton            Goalkeeper   188.0  37.0           4   \n",
       "3  Lisandro Martínez  Defender Centre-Back   175.0  25.0          82   \n",
       "4     Raphaël Varane  Defender Centre-Back   191.0  30.0          63   \n",
       "\n",
       "      goals   assists  yellow cards  second yellow cards  red cards  \\\n",
       "0  0.000000  0.000000      0.009585                  0.0        0.0   \n",
       "1  0.000000  0.000000      0.069018                  0.0        0.0   \n",
       "2  0.000000  0.000000      0.000000                  0.0        0.0   \n",
       "3  0.028090  0.056180      0.224719                  0.0        0.0   \n",
       "4  0.017889  0.017889      0.053667                  0.0        0.0   \n",
       "\n",
       "   goals conceded  clean sheets  minutes played  days_injured  games_injured  \\\n",
       "0        1.217252      0.335463            9390            42              5   \n",
       "1        1.242331      0.207055            1304           510             58   \n",
       "2        0.616438      0.924658             292           697             84   \n",
       "3        0.000000      0.000000            6408           175             22   \n",
       "4        0.000000      0.000000            5031           238             51   \n",
       "\n",
       "   award  current_value  highest_value  position_encoded  winger  \n",
       "0     13       15000000       70000000                 1       0  \n",
       "1      1        1500000       22000000                 1       0  \n",
       "2      4         600000        6000000                 1       0  \n",
       "3      9       50000000       50000000                 2       0  \n",
       "4     21       40000000       80000000                 2       0  "
      ]
     },
     "execution_count": 83,
     "metadata": {},
     "output_type": "execute_result"
    }
   ],
   "source": [
    "# Get first 5 lines of dataset\n",
    "df.head()"
   ]
  },
  {
   "cell_type": "code",
   "execution_count": 84,
   "id": "466c0583",
   "metadata": {},
   "outputs": [
    {
     "data": {
      "text/plain": [
       "Index(['player', 'team', 'name', 'position', 'height', 'age', 'appearance',\n",
       "       'goals', 'assists', 'yellow cards', 'second yellow cards', 'red cards',\n",
       "       'goals conceded', 'clean sheets', 'minutes played', 'days_injured',\n",
       "       'games_injured', 'award', 'current_value', 'highest_value',\n",
       "       'position_encoded', 'winger'],\n",
       "      dtype='object')"
      ]
     },
     "execution_count": 84,
     "metadata": {},
     "output_type": "execute_result"
    }
   ],
   "source": [
    "# Columns in data\n",
    "df.columns"
   ]
  },
  {
   "cell_type": "code",
   "execution_count": 85,
   "id": "f7aaf226",
   "metadata": {},
   "outputs": [
    {
     "data": {
      "text/plain": [
       "(10754, 22)"
      ]
     },
     "execution_count": 85,
     "metadata": {},
     "output_type": "execute_result"
    }
   ],
   "source": [
    "# Shape of data\n",
    "df.shape"
   ]
  },
  {
   "cell_type": "code",
   "execution_count": 86,
   "id": "1cbb16b8",
   "metadata": {},
   "outputs": [
    {
     "data": {
      "text/plain": [
       "player                  object\n",
       "team                    object\n",
       "name                    object\n",
       "position                object\n",
       "height                 float64\n",
       "age                    float64\n",
       "appearance               int64\n",
       "goals                  float64\n",
       "assists                float64\n",
       "yellow cards           float64\n",
       "second yellow cards    float64\n",
       "red cards              float64\n",
       "goals conceded         float64\n",
       "clean sheets           float64\n",
       "minutes played           int64\n",
       "days_injured             int64\n",
       "games_injured            int64\n",
       "award                    int64\n",
       "current_value            int64\n",
       "highest_value            int64\n",
       "position_encoded         int64\n",
       "winger                   int64\n",
       "dtype: object"
      ]
     },
     "execution_count": 86,
     "metadata": {},
     "output_type": "execute_result"
    }
   ],
   "source": [
    "# Checking data types of all features\n",
    "df.dtypes"
   ]
  },
  {
   "cell_type": "code",
   "execution_count": 87,
   "id": "c240e63e",
   "metadata": {},
   "outputs": [
    {
     "data": {
      "text/plain": [
       "player                 0\n",
       "team                   0\n",
       "name                   0\n",
       "position               0\n",
       "height                 0\n",
       "age                    0\n",
       "appearance             0\n",
       "goals                  0\n",
       "assists                0\n",
       "yellow cards           0\n",
       "second yellow cards    0\n",
       "red cards              0\n",
       "goals conceded         0\n",
       "clean sheets           0\n",
       "minutes played         0\n",
       "days_injured           0\n",
       "games_injured          0\n",
       "award                  0\n",
       "current_value          0\n",
       "highest_value          0\n",
       "position_encoded       0\n",
       "winger                 0\n",
       "dtype: int64"
      ]
     },
     "execution_count": 87,
     "metadata": {},
     "output_type": "execute_result"
    }
   ],
   "source": [
    "# Checking for null values \n",
    "df.isnull().sum()"
   ]
  },
  {
   "cell_type": "code",
   "execution_count": 88,
   "id": "19b8060b",
   "metadata": {},
   "outputs": [
    {
     "data": {
      "text/plain": [
       "0"
      ]
     },
     "execution_count": 88,
     "metadata": {},
     "output_type": "execute_result"
    }
   ],
   "source": [
    "# Check for duplicates\n",
    "df.duplicated().sum()"
   ]
  },
  {
   "cell_type": "code",
   "execution_count": 89,
   "id": "8f88897d",
   "metadata": {},
   "outputs": [
    {
     "data": {
      "text/html": [
       "<div>\n",
       "<style scoped>\n",
       "    .dataframe tbody tr th:only-of-type {\n",
       "        vertical-align: middle;\n",
       "    }\n",
       "\n",
       "    .dataframe tbody tr th {\n",
       "        vertical-align: top;\n",
       "    }\n",
       "\n",
       "    .dataframe thead th {\n",
       "        text-align: right;\n",
       "    }\n",
       "</style>\n",
       "<table border=\"1\" class=\"dataframe\">\n",
       "  <thead>\n",
       "    <tr style=\"text-align: right;\">\n",
       "      <th></th>\n",
       "      <th>height</th>\n",
       "      <th>age</th>\n",
       "      <th>appearance</th>\n",
       "      <th>goals</th>\n",
       "      <th>assists</th>\n",
       "      <th>yellow cards</th>\n",
       "      <th>second yellow cards</th>\n",
       "      <th>red cards</th>\n",
       "      <th>goals conceded</th>\n",
       "      <th>clean sheets</th>\n",
       "      <th>minutes played</th>\n",
       "      <th>days_injured</th>\n",
       "      <th>games_injured</th>\n",
       "      <th>award</th>\n",
       "      <th>current_value</th>\n",
       "      <th>highest_value</th>\n",
       "      <th>position_encoded</th>\n",
       "      <th>winger</th>\n",
       "    </tr>\n",
       "  </thead>\n",
       "  <tbody>\n",
       "    <tr>\n",
       "      <th>count</th>\n",
       "      <td>10754.000000</td>\n",
       "      <td>10754.000000</td>\n",
       "      <td>10754.000000</td>\n",
       "      <td>10754.000000</td>\n",
       "      <td>10754.000000</td>\n",
       "      <td>10754.000000</td>\n",
       "      <td>10754.000000</td>\n",
       "      <td>10754.000000</td>\n",
       "      <td>10754.000000</td>\n",
       "      <td>10754.000000</td>\n",
       "      <td>10754.000000</td>\n",
       "      <td>10754.000000</td>\n",
       "      <td>10754.000000</td>\n",
       "      <td>10754.000000</td>\n",
       "      <td>1.075400e+04</td>\n",
       "      <td>1.075400e+04</td>\n",
       "      <td>10754.000000</td>\n",
       "      <td>10754.000000</td>\n",
       "    </tr>\n",
       "    <tr>\n",
       "      <th>mean</th>\n",
       "      <td>181.240353</td>\n",
       "      <td>26.041903</td>\n",
       "      <td>36.407011</td>\n",
       "      <td>0.125554</td>\n",
       "      <td>0.086978</td>\n",
       "      <td>0.189757</td>\n",
       "      <td>0.004666</td>\n",
       "      <td>0.006826</td>\n",
       "      <td>0.131655</td>\n",
       "      <td>0.044881</td>\n",
       "      <td>2470.789381</td>\n",
       "      <td>117.961689</td>\n",
       "      <td>15.826297</td>\n",
       "      <td>1.960759</td>\n",
       "      <td>3.622971e+06</td>\n",
       "      <td>6.152606e+06</td>\n",
       "      <td>2.713223</td>\n",
       "      <td>0.307513</td>\n",
       "    </tr>\n",
       "    <tr>\n",
       "      <th>std</th>\n",
       "      <td>6.969818</td>\n",
       "      <td>4.777629</td>\n",
       "      <td>26.526541</td>\n",
       "      <td>0.235585</td>\n",
       "      <td>0.143351</td>\n",
       "      <td>0.432388</td>\n",
       "      <td>0.025232</td>\n",
       "      <td>0.081143</td>\n",
       "      <td>0.442335</td>\n",
       "      <td>0.924437</td>\n",
       "      <td>2021.703271</td>\n",
       "      <td>175.206827</td>\n",
       "      <td>23.383606</td>\n",
       "      <td>3.743936</td>\n",
       "      <td>9.095410e+06</td>\n",
       "      <td>1.338988e+07</td>\n",
       "      <td>0.986356</td>\n",
       "      <td>0.461485</td>\n",
       "    </tr>\n",
       "    <tr>\n",
       "      <th>min</th>\n",
       "      <td>156.000000</td>\n",
       "      <td>15.000000</td>\n",
       "      <td>0.000000</td>\n",
       "      <td>0.000000</td>\n",
       "      <td>0.000000</td>\n",
       "      <td>0.000000</td>\n",
       "      <td>0.000000</td>\n",
       "      <td>0.000000</td>\n",
       "      <td>0.000000</td>\n",
       "      <td>0.000000</td>\n",
       "      <td>0.000000</td>\n",
       "      <td>0.000000</td>\n",
       "      <td>0.000000</td>\n",
       "      <td>0.000000</td>\n",
       "      <td>0.000000e+00</td>\n",
       "      <td>0.000000e+00</td>\n",
       "      <td>1.000000</td>\n",
       "      <td>0.000000</td>\n",
       "    </tr>\n",
       "    <tr>\n",
       "      <th>25%</th>\n",
       "      <td>176.000000</td>\n",
       "      <td>22.000000</td>\n",
       "      <td>12.000000</td>\n",
       "      <td>0.000000</td>\n",
       "      <td>0.000000</td>\n",
       "      <td>0.053191</td>\n",
       "      <td>0.000000</td>\n",
       "      <td>0.000000</td>\n",
       "      <td>0.000000</td>\n",
       "      <td>0.000000</td>\n",
       "      <td>660.000000</td>\n",
       "      <td>0.000000</td>\n",
       "      <td>0.000000</td>\n",
       "      <td>0.000000</td>\n",
       "      <td>3.000000e+05</td>\n",
       "      <td>4.500000e+05</td>\n",
       "      <td>2.000000</td>\n",
       "      <td>0.000000</td>\n",
       "    </tr>\n",
       "    <tr>\n",
       "      <th>50%</th>\n",
       "      <td>181.240353</td>\n",
       "      <td>26.000000</td>\n",
       "      <td>35.000000</td>\n",
       "      <td>0.045969</td>\n",
       "      <td>0.040773</td>\n",
       "      <td>0.150250</td>\n",
       "      <td>0.000000</td>\n",
       "      <td>0.000000</td>\n",
       "      <td>0.000000</td>\n",
       "      <td>0.000000</td>\n",
       "      <td>2101.500000</td>\n",
       "      <td>37.000000</td>\n",
       "      <td>5.000000</td>\n",
       "      <td>1.000000</td>\n",
       "      <td>8.000000e+05</td>\n",
       "      <td>1.500000e+06</td>\n",
       "      <td>3.000000</td>\n",
       "      <td>0.000000</td>\n",
       "    </tr>\n",
       "    <tr>\n",
       "      <th>75%</th>\n",
       "      <td>186.000000</td>\n",
       "      <td>29.000000</td>\n",
       "      <td>59.000000</td>\n",
       "      <td>0.172263</td>\n",
       "      <td>0.133136</td>\n",
       "      <td>0.248276</td>\n",
       "      <td>0.000000</td>\n",
       "      <td>0.000000</td>\n",
       "      <td>0.000000</td>\n",
       "      <td>0.000000</td>\n",
       "      <td>3968.000000</td>\n",
       "      <td>181.000000</td>\n",
       "      <td>24.000000</td>\n",
       "      <td>2.000000</td>\n",
       "      <td>3.000000e+06</td>\n",
       "      <td>5.000000e+06</td>\n",
       "      <td>4.000000</td>\n",
       "      <td>1.000000</td>\n",
       "    </tr>\n",
       "    <tr>\n",
       "      <th>max</th>\n",
       "      <td>206.000000</td>\n",
       "      <td>43.000000</td>\n",
       "      <td>107.000000</td>\n",
       "      <td>11.250000</td>\n",
       "      <td>4.000000</td>\n",
       "      <td>30.000000</td>\n",
       "      <td>1.000000</td>\n",
       "      <td>6.923077</td>\n",
       "      <td>9.000000</td>\n",
       "      <td>90.000000</td>\n",
       "      <td>9510.000000</td>\n",
       "      <td>2349.000000</td>\n",
       "      <td>339.000000</td>\n",
       "      <td>92.000000</td>\n",
       "      <td>1.800000e+08</td>\n",
       "      <td>2.000000e+08</td>\n",
       "      <td>4.000000</td>\n",
       "      <td>1.000000</td>\n",
       "    </tr>\n",
       "  </tbody>\n",
       "</table>\n",
       "</div>"
      ],
      "text/plain": [
       "             height           age    appearance         goals       assists  \\\n",
       "count  10754.000000  10754.000000  10754.000000  10754.000000  10754.000000   \n",
       "mean     181.240353     26.041903     36.407011      0.125554      0.086978   \n",
       "std        6.969818      4.777629     26.526541      0.235585      0.143351   \n",
       "min      156.000000     15.000000      0.000000      0.000000      0.000000   \n",
       "25%      176.000000     22.000000     12.000000      0.000000      0.000000   \n",
       "50%      181.240353     26.000000     35.000000      0.045969      0.040773   \n",
       "75%      186.000000     29.000000     59.000000      0.172263      0.133136   \n",
       "max      206.000000     43.000000    107.000000     11.250000      4.000000   \n",
       "\n",
       "       yellow cards  second yellow cards     red cards  goals conceded  \\\n",
       "count  10754.000000         10754.000000  10754.000000    10754.000000   \n",
       "mean       0.189757             0.004666      0.006826        0.131655   \n",
       "std        0.432388             0.025232      0.081143        0.442335   \n",
       "min        0.000000             0.000000      0.000000        0.000000   \n",
       "25%        0.053191             0.000000      0.000000        0.000000   \n",
       "50%        0.150250             0.000000      0.000000        0.000000   \n",
       "75%        0.248276             0.000000      0.000000        0.000000   \n",
       "max       30.000000             1.000000      6.923077        9.000000   \n",
       "\n",
       "       clean sheets  minutes played  days_injured  games_injured  \\\n",
       "count  10754.000000    10754.000000  10754.000000   10754.000000   \n",
       "mean       0.044881     2470.789381    117.961689      15.826297   \n",
       "std        0.924437     2021.703271    175.206827      23.383606   \n",
       "min        0.000000        0.000000      0.000000       0.000000   \n",
       "25%        0.000000      660.000000      0.000000       0.000000   \n",
       "50%        0.000000     2101.500000     37.000000       5.000000   \n",
       "75%        0.000000     3968.000000    181.000000      24.000000   \n",
       "max       90.000000     9510.000000   2349.000000     339.000000   \n",
       "\n",
       "              award  current_value  highest_value  position_encoded  \\\n",
       "count  10754.000000   1.075400e+04   1.075400e+04      10754.000000   \n",
       "mean       1.960759   3.622971e+06   6.152606e+06          2.713223   \n",
       "std        3.743936   9.095410e+06   1.338988e+07          0.986356   \n",
       "min        0.000000   0.000000e+00   0.000000e+00          1.000000   \n",
       "25%        0.000000   3.000000e+05   4.500000e+05          2.000000   \n",
       "50%        1.000000   8.000000e+05   1.500000e+06          3.000000   \n",
       "75%        2.000000   3.000000e+06   5.000000e+06          4.000000   \n",
       "max       92.000000   1.800000e+08   2.000000e+08          4.000000   \n",
       "\n",
       "             winger  \n",
       "count  10754.000000  \n",
       "mean       0.307513  \n",
       "std        0.461485  \n",
       "min        0.000000  \n",
       "25%        0.000000  \n",
       "50%        0.000000  \n",
       "75%        1.000000  \n",
       "max        1.000000  "
      ]
     },
     "execution_count": 89,
     "metadata": {},
     "output_type": "execute_result"
    }
   ],
   "source": [
    "# Checking our numerical columns\n",
    "df.describe()"
   ]
  },
  {
   "cell_type": "markdown",
   "id": "4b234945",
   "metadata": {},
   "source": [
    "## 3. CORELATION MATRIX"
   ]
  },
  {
   "cell_type": "code",
   "execution_count": 90,
   "id": "a6ab612c",
   "metadata": {},
   "outputs": [
    {
     "data": {
      "image/png": "[encoded data removed]",
      "text/plain": [
       "<Figure size 1200x1000 with 2 Axes>"
      ]
     },
     "metadata": {},
     "output_type": "display_data"
    }
   ],
   "source": [
    "correlation_matrix = df.corr()\n",
    "plt.figure(figsize=(12, 10))\n",
    "sns.heatmap(correlation_matrix, annot=True, cmap=\"coolwarm\", fmt=\".2f\", linewidths=.5)\n",
    "plt.show()\n"
   ]
  },
  {
   "cell_type": "markdown",
   "id": "c9d72935",
   "metadata": {},
   "source": [
    "## 4. DROPPING UNNECESSARY COLUMNS "
   ]
  },
  {
   "cell_type": "markdown",
   "id": "caab30ce",
   "metadata": {},
   "source": [
    "To build a model for predicting player transfer fees with the target variable being 'highest_value', you need to consider which features (columns) in your dataset could be relevant for this prediction task. Here's a brief analysis of the columns provided:\n",
    "\n",
    "1. **player**: This column is likely to be a unique identifier for each player and may not contribute directly to predicting transfer fees. You may want to exclude it.\n",
    "-----------------------------------------------------------------------------------------------------------------\n",
    "2. **team**: The team a player is currently part of might have an impact on the transfer fee. Team performance, league, and other factors associated with the team could be relevant.\n",
    "-----------------------------------------------------------------------------------------------------------------\n",
    "3. **name**: Similar to the 'player' column, the player's name is likely unique and may not directly contribute to the prediction.\n",
    "-----------------------------------------------------------------------------------------------------------------\n",
    "4. **position**: The player's position is often a crucial factor in determining transfer fees. Different positions have different market values.\n",
    "-----------------------------------------------------------------------------------------------------------------\n",
    "5. **height**: While height might not have a direct impact and also have low corelation.\n",
    "-----------------------------------------------------------------------------------------------------------------\n",
    "6. **age**: Age is a crucial factor. Younger players with potential may command higher transfer fees.\n",
    "-----------------------------------------------------------------------------------------------------------------\n",
    "7. **appearance**, **goals**, **assists**, **yellow cards**, **red cards**, etc.: These contain many null values so not taking in consideration.\n",
    "-----------------------------------------------------------------------------------------------------------------\n",
    "8. **clean sheets**, **goals conceded**: These contain many null values so not taking in consideration.\n",
    "-----------------------------------------------------------------------------------------------------------------\n",
    "9. **minutes played**: This could be an important factor, especially if it reflects consistent playing time.\n",
    "-----------------------------------------------------------------------------------------------------------------\n",
    "10. **days_injured**, **games_injured**: Injuries might negatively impact a player's transfer value , Since both represent same thing we will take only one column .\n",
    "-----------------------------------------------------------------------------------------------------------------\n",
    "11. **award**: Winning awards or being nominated could positively impact a player's value.\n",
    "-----------------------------------------------------------------------------------------------------------------\n",
    "12. **current_value**: This is likely to be a strong predictor as it represents the current estimated value of the player.\n",
    "-----------------------------------------------------------------------------------------------------------------\n",
    "13. **winger**: It does not seem helpful as most of them are 0 and it can cause overfitting and its corelationn is also low . \n"
   ]
  },
  {
   "cell_type": "code",
   "execution_count": 91,
   "id": "3f4a606e",
   "metadata": {},
   "outputs": [
    {
     "data": {
      "text/plain": [
       "Index(['player', 'team', 'name', 'position', 'height', 'age', 'appearance',\n",
       "       'goals', 'assists', 'yellow cards', 'second yellow cards', 'red cards',\n",
       "       'goals conceded', 'clean sheets', 'minutes played', 'days_injured',\n",
       "       'games_injured', 'award', 'current_value', 'highest_value',\n",
       "       'position_encoded', 'winger'],\n",
       "      dtype='object')"
      ]
     },
     "execution_count": 91,
     "metadata": {},
     "output_type": "execute_result"
    }
   ],
   "source": [
    "df.columns"
   ]
  },
  {
   "cell_type": "code",
   "execution_count": 92,
   "id": "cc968bb1",
   "metadata": {},
   "outputs": [],
   "source": [
    "df.drop(['player','name','height','goals','assists','yellow cards', 'second yellow cards', 'red cards',\n",
    "       'goals conceded', 'clean sheets','days_injured','position_encoded' ,'winger'] , axis=1 , inplace=True)"
   ]
  },
  {
   "cell_type": "code",
   "execution_count": 93,
   "id": "9d2ee744",
   "metadata": {},
   "outputs": [
    {
     "data": {
      "text/plain": [
       "Index(['team', 'position', 'age', 'appearance', 'minutes played',\n",
       "       'games_injured', 'award', 'current_value', 'highest_value'],\n",
       "      dtype='object')"
      ]
     },
     "execution_count": 93,
     "metadata": {},
     "output_type": "execute_result"
    }
   ],
   "source": [
    "# These are important columns\n",
    "df.columns"
   ]
  },
  {
   "cell_type": "code",
   "execution_count": 94,
   "id": "1c721155",
   "metadata": {},
   "outputs": [
    {
     "data": {
      "text/html": [
       "<div>\n",
       "<style scoped>\n",
       "    .dataframe tbody tr th:only-of-type {\n",
       "        vertical-align: middle;\n",
       "    }\n",
       "\n",
       "    .dataframe tbody tr th {\n",
       "        vertical-align: top;\n",
       "    }\n",
       "\n",
       "    .dataframe thead th {\n",
       "        text-align: right;\n",
       "    }\n",
       "</style>\n",
       "<table border=\"1\" class=\"dataframe\">\n",
       "  <thead>\n",
       "    <tr style=\"text-align: right;\">\n",
       "      <th></th>\n",
       "      <th>team</th>\n",
       "      <th>position</th>\n",
       "      <th>age</th>\n",
       "      <th>appearance</th>\n",
       "      <th>minutes played</th>\n",
       "      <th>games_injured</th>\n",
       "      <th>award</th>\n",
       "      <th>current_value</th>\n",
       "      <th>highest_value</th>\n",
       "    </tr>\n",
       "  </thead>\n",
       "  <tbody>\n",
       "    <tr>\n",
       "      <th>0</th>\n",
       "      <td>Manchester United</td>\n",
       "      <td>Goalkeeper</td>\n",
       "      <td>32.0</td>\n",
       "      <td>104</td>\n",
       "      <td>9390</td>\n",
       "      <td>5</td>\n",
       "      <td>13</td>\n",
       "      <td>15000000</td>\n",
       "      <td>70000000</td>\n",
       "    </tr>\n",
       "    <tr>\n",
       "      <th>1</th>\n",
       "      <td>Manchester United</td>\n",
       "      <td>Goalkeeper</td>\n",
       "      <td>30.0</td>\n",
       "      <td>15</td>\n",
       "      <td>1304</td>\n",
       "      <td>58</td>\n",
       "      <td>1</td>\n",
       "      <td>1500000</td>\n",
       "      <td>22000000</td>\n",
       "    </tr>\n",
       "    <tr>\n",
       "      <th>2</th>\n",
       "      <td>Manchester United</td>\n",
       "      <td>Goalkeeper</td>\n",
       "      <td>37.0</td>\n",
       "      <td>4</td>\n",
       "      <td>292</td>\n",
       "      <td>84</td>\n",
       "      <td>4</td>\n",
       "      <td>600000</td>\n",
       "      <td>6000000</td>\n",
       "    </tr>\n",
       "    <tr>\n",
       "      <th>3</th>\n",
       "      <td>Manchester United</td>\n",
       "      <td>Defender Centre-Back</td>\n",
       "      <td>25.0</td>\n",
       "      <td>82</td>\n",
       "      <td>6408</td>\n",
       "      <td>22</td>\n",
       "      <td>9</td>\n",
       "      <td>50000000</td>\n",
       "      <td>50000000</td>\n",
       "    </tr>\n",
       "    <tr>\n",
       "      <th>4</th>\n",
       "      <td>Manchester United</td>\n",
       "      <td>Defender Centre-Back</td>\n",
       "      <td>30.0</td>\n",
       "      <td>63</td>\n",
       "      <td>5031</td>\n",
       "      <td>51</td>\n",
       "      <td>21</td>\n",
       "      <td>40000000</td>\n",
       "      <td>80000000</td>\n",
       "    </tr>\n",
       "  </tbody>\n",
       "</table>\n",
       "</div>"
      ],
      "text/plain": [
       "                team              position   age  appearance  minutes played  \\\n",
       "0  Manchester United            Goalkeeper  32.0         104            9390   \n",
       "1  Manchester United            Goalkeeper  30.0          15            1304   \n",
       "2  Manchester United            Goalkeeper  37.0           4             292   \n",
       "3  Manchester United  Defender Centre-Back  25.0          82            6408   \n",
       "4  Manchester United  Defender Centre-Back  30.0          63            5031   \n",
       "\n",
       "   games_injured  award  current_value  highest_value  \n",
       "0              5     13       15000000       70000000  \n",
       "1             58      1        1500000       22000000  \n",
       "2             84      4         600000        6000000  \n",
       "3             22      9       50000000       50000000  \n",
       "4             51     21       40000000       80000000  "
      ]
     },
     "execution_count": 94,
     "metadata": {},
     "output_type": "execute_result"
    }
   ],
   "source": [
    "df.head()\n",
    "\n",
    "# Input Variable : team', 'position', 'age', 'appearance', 'minutes played', 'games_injured', 'award', 'current_value'\n",
    "# Target variable : 'highes_value'"
   ]
  },
  {
   "cell_type": "markdown",
   "id": "f46ad013",
   "metadata": {},
   "source": [
    "## 5. Feature Engineering and Data Visualization "
   ]
  },
  {
   "cell_type": "markdown",
   "id": "be71597e",
   "metadata": {},
   "source": [
    "### (a). Team Column"
   ]
  },
  {
   "cell_type": "code",
   "execution_count": 95,
   "id": "249eae19",
   "metadata": {},
   "outputs": [
    {
     "data": {
      "text/plain": [
       "Daejeon Hana Citizen      46\n",
       "Jeonbuk Hyundai Motors    46\n",
       "FC Seoul                  45\n",
       "Gangwon FC                43\n",
       "Daegu FC                  42\n",
       "                          ..\n",
       "FC Barcelona              22\n",
       "Atlético de Madrid        22\n",
       "CA Osasuna                22\n",
       "Hatayspor                 12\n",
       "Gaziantep FK               6\n",
       "Name: team, Length: 374, dtype: int64"
      ]
     },
     "execution_count": 95,
     "metadata": {},
     "output_type": "execute_result"
    }
   ],
   "source": [
    "df['team'].value_counts()"
   ]
  },
  {
   "cell_type": "code",
   "execution_count": 96,
   "id": "1ba78305",
   "metadata": {},
   "outputs": [
    {
     "data": {
      "text/plain": [
       "374"
      ]
     },
     "execution_count": 96,
     "metadata": {},
     "output_type": "execute_result"
    }
   ],
   "source": [
    "len(df['team'].unique())\n",
    "# 374 teams are there"
   ]
  },
  {
   "cell_type": "code",
   "execution_count": 97,
   "id": "4f4ce879",
   "metadata": {},
   "outputs": [
    {
     "data": {
      "image/png": "[encoded data removed]",
      "text/plain": [
       "<Figure size 640x480 with 1 Axes>"
      ]
     },
     "metadata": {},
     "output_type": "display_data"
    }
   ],
   "source": [
    "# Visualizing only top 20 teams  \n",
    "top_categories = df['team'].value_counts().nlargest(20).index\n",
    "filtered_data = df[df['team'].isin(top_categories)]\n",
    "\n",
    "\n",
    "sns.countplot(x='team', data=filtered_data)\n",
    "plt.xticks(rotation=90)  # Rotate x-axis labels for better visibility\n",
    "plt.show()"
   ]
  },
  {
   "cell_type": "markdown",
   "id": "2c7f97f4",
   "metadata": {},
   "source": [
    "Doing One-Hot Encoding and only selecting top 20 teams and markin rest as 'Others'"
   ]
  },
  {
   "cell_type": "code",
   "execution_count": 172,
   "id": "b81b4a17",
   "metadata": {},
   "outputs": [],
   "source": [
    "top_n_teams = df['team'].value_counts().nlargest(20).index\n",
    "df['team_encoded'] = df['team'].apply(lambda x: x if x in top_n_teams else 'Other')"
   ]
  },
  {
   "cell_type": "code",
   "execution_count": 173,
   "id": "223215b1",
   "metadata": {},
   "outputs": [],
   "source": [
    "from sklearn.preprocessing import LabelEncoder\n",
    "\n",
    "# Assuming 'position' is the column you want to label encode\n",
    "column_to_encode = 'team_encoded'\n",
    "\n",
    "# Initialize the LabelEncoder\n",
    "label_encoder = LabelEncoder()\n",
    "\n",
    "# Fit and transform the specified column\n",
    "df[column_to_encode] = label_encoder.fit_transform(df[column_to_encode])\n"
   ]
  },
  {
   "cell_type": "code",
   "execution_count": 174,
   "id": "2308b643",
   "metadata": {},
   "outputs": [
    {
     "data": {
      "text/plain": [
       "array(['Al-Batin FC', 'Botafogo de Futebol e Regatas', 'Daegu FC',\n",
       "       'Daejeon Hana Citizen', 'FC Seoul', 'FC Tokyo', 'Gangwon FC',\n",
       "       'Incheon United', 'Jeonbuk Hyundai Motors', 'Kashiwa Reysol',\n",
       "       'Mamelodi Sundowns FC', 'Marumo Gallants FC', 'Other',\n",
       "       'Royal AM FC', 'Sagan Tosu', 'Santos FC',\n",
       "       'Suwon Samsung Bluewings', 'Swallows FC',\n",
       "       'São Paulo Futebol Clube', 'Vissel Kobe', 'Yokohama FC'],\n",
       "      dtype=object)"
      ]
     },
     "execution_count": 174,
     "metadata": {},
     "output_type": "execute_result"
    }
   ],
   "source": [
    "label_encoder.classes_"
   ]
  },
  {
   "cell_type": "code",
   "execution_count": null,
   "id": "1623b6bf",
   "metadata": {},
   "outputs": [],
   "source": []
  },
  {
   "cell_type": "code",
   "execution_count": 171,
   "id": "9af3f4c4",
   "metadata": {},
   "outputs": [
    {
     "data": {
      "text/plain": [
       "array(['Manchester United', 'West Ham United', 'Leicester City',\n",
       "       'Aston Villa', 'Wolverhampton Wanderers', 'Southampton FC',\n",
       "       'Brighton &amp; Hove Albion', 'Everton FC', 'Nottingham Forest',\n",
       "       'Leeds United', 'Crystal Palace', 'Fulham FC', 'AFC Bournemouth',\n",
       "       'Brentford FC', 'Liverpool FC', 'Newcastle United',\n",
       "       'Manchester City', 'Arsenal FC', 'Tottenham Hotspur', 'Chelsea FC',\n",
       "       'Borussia Mönchengladbach', 'VfL Wolfsburg', 'TSG 1899 Hoffenheim',\n",
       "       '1.FC Union Berlin', 'FC Augsburg', 'VfB Stuttgart',\n",
       "       '1.FSV Mainz 05', '1.FC Köln', 'Hertha BSC', 'FC Schalke 04',\n",
       "       'VfL Bochum', 'SV Werder Bremen', 'Eintracht Frankfurt',\n",
       "       'SC Freiburg', 'Borussia Dortmund', 'Bayer 04 Leverkusen',\n",
       "       'Bayern Munich', 'RB Leipzig', 'Real Sociedad', 'Villarreal CF',\n",
       "       'Real Betis Balompié', 'Athletic Bilbao', 'Valencia CF',\n",
       "       'Sevilla FC', 'Celta de Vigo', 'CA Osasuna', 'Girona FC',\n",
       "       'Rayo Vallecano', 'RCD Mallorca', 'UD Almería',\n",
       "       'Real Valladolid CF', 'Cádiz CF', 'Elche CF',\n",
       "       'RCD Espanyol Barcelona', 'Getafe CF', 'Atlético de Madrid',\n",
       "       'Real Madrid', 'FC Barcelona', 'AS Roma', 'SS Lazio',\n",
       "       'ACF Fiorentina', 'US Sassuolo', 'Torino FC', 'Udinese Calcio',\n",
       "       'Bologna FC 1909', 'AC Monza', 'FC Empoli', 'US Lecce',\n",
       "       'Spezia Calcio', 'Hellas Verona', 'UC Sampdoria', 'US Cremonese',\n",
       "       'US Salernitana 1919', 'Atalanta BC', 'SSC Napoli', 'Inter Milan',\n",
       "       'AC Milan', 'Juventus FC', 'AS Monaco', 'Stade Rennais FC',\n",
       "       'Olympique Marseille', 'OGC Nice', 'RC Lens', 'FC Nantes',\n",
       "       'Montpellier HSC', 'FC Lorient', 'FC Toulouse', 'ESTAC Troyes',\n",
       "       'Stade Brestois 29', 'Angers SCO', 'AJ Auxerre',\n",
       "       'Clermont Foot 63', 'AC Ajaccio', 'Olympique Lyon', 'LOSC Lille',\n",
       "       'Stade Reims', 'RC Strasbourg Alsace', 'Paris Saint-Germain',\n",
       "       'AZ Alkmaar', 'Twente Enschede FC', 'Vitesse Arnhem',\n",
       "       'FC Groningen', 'Fortuna Sittard', 'NEC Nijmegen',\n",
       "       'Sparta Rotterdam', 'SC Cambuur Leeuwarden', 'Excelsior Rotterdam',\n",
       "       'FC Volendam', 'RKC Waalwijk', 'FC Emmen', 'Go Ahead Eagles',\n",
       "       'FC Utrecht', 'SC Heerenveen', 'Ajax Amsterdam', 'PSV Eindhoven',\n",
       "       'Feyenoord Rotterdam', 'Club Athletico Paranaense',\n",
       "       'Red Bull Bragantino', 'Santos FC',\n",
       "       'Clube de Regatas Vasco da Gama', 'Fluminense Football Club',\n",
       "       'Sport Club Internacional', 'Esporte Clube Bahia',\n",
       "       'Grêmio Foot-Ball Porto Alegrense', 'Coritiba Foot Ball Club',\n",
       "       'Fortaleza Esporte Clube', 'Cruzeiro Esporte Clube',\n",
       "       'Goiás Esporte Clube', 'Cuiabá Esporte Clube (MT)',\n",
       "       'Botafogo de Futebol e Regatas', 'Clube Atlético Mineiro',\n",
       "       'São Paulo Futebol Clube', 'América Futebol Clube (MG)',\n",
       "       'Sociedade Esportiva Palmeiras', 'CR Flamengo',\n",
       "       'Sport Club Corinthians Paulista', 'SC Braga', 'FC Famalicão',\n",
       "       'Vitória Guimarães SC', 'CD Santa Clara', 'GD Estoril Praia',\n",
       "       'Boavista FC', 'Portimonense SC', 'CS Marítimo', 'Casa Pia AC',\n",
       "       'FC Paços de Ferreira', 'FC Arouca', 'FC Vizela', 'Rio Ave FC',\n",
       "       'GD Chaves', 'Gil Vicente FC', 'FC Porto', 'Sporting CP',\n",
       "       'SL Benfica', 'Santos Laguna', 'Club León FC', 'FC Juárez',\n",
       "       'Club Tijuana', 'Atlético de San Luis', 'Club Necaxa', 'Puebla FC',\n",
       "       'Mazatlán FC', 'Querétaro FC', 'CF América', 'CF Monterrey',\n",
       "       'Atlas Guadalajara', 'UNAM Pumas', 'Deportivo Toluca',\n",
       "       'Tigres UANL', 'Deportivo Guadalajara', 'CD Cruz Azul',\n",
       "       'CF Pachuca', 'Dynamo Moscow', 'Lokomotiv Moscow', 'FK Rostov',\n",
       "       'Krylya Sovetov Samara', 'FC Sochi', 'Akhmat Grozny',\n",
       "       'Ural Yekaterinburg', 'FK Orenburg', 'FC Pari Nizhniy Novgorod',\n",
       "       'FK Khimki', 'Torpedo Moscow', 'Fakel Voronezh', 'Spartak Moscow',\n",
       "       'CSKA Moscow', 'FK Krasnodar', 'Zenit St. Petersburg',\n",
       "       'West Bromwich Albion', 'Sunderland AFC', 'Hull City',\n",
       "       'Preston North End', 'Stoke City', 'Queens Park Rangers',\n",
       "       'Birmingham City', 'Cardiff City', 'Millwall FC', 'Reading FC',\n",
       "       'Blackpool FC', 'Bristol City', 'Huddersfield Town',\n",
       "       'Rotherham United', 'Wigan Athletic', 'Middlesbrough FC',\n",
       "       'Coventry City', 'Luton Town', 'Swansea City', 'Burnley FC',\n",
       "       'Watford FC', 'Sheffield United', 'Blackburn Rovers',\n",
       "       'Norwich City', 'Trabzonspor', 'Besiktas JK', 'Basaksehir FK',\n",
       "       'Antalyaspor', 'Adana Demirspor', 'Alanyaspor', 'Kasimpasa',\n",
       "       'Konyaspor', 'MKE Ankaragücü', 'Sivasspor', 'Kayserispor',\n",
       "       'Giresunspor', 'Istanbulspor', 'Hatayspor', 'Gaziantep FK',\n",
       "       'Fatih Karagümrük', 'Ümraniyespor', 'Fenerbahce', 'Galatasaray',\n",
       "       'SK Sturm Graz', 'LASK', 'SCR Altach', 'SC Austria Lustenau',\n",
       "       'SV Ried', 'TSV Hartberg', 'WSG Tirol', 'Rapid Vienna',\n",
       "       'Austria Vienna', 'SK Austria Klagenfurt', 'Wolfsberger AC',\n",
       "       'Red Bull Salzburg', 'Philadelphia Union', 'FC Cincinnati',\n",
       "       'FC Dallas', 'Orlando City SC', 'Los Angeles Galaxy',\n",
       "       'New England Revolution', 'D.C. United', 'New York Red Bulls',\n",
       "       'Portland Timbers', 'Columbus Crew', 'Charlotte FC',\n",
       "       'Sporting Kansas City', 'Colorado Rapids',\n",
       "       'Vancouver Whitecaps FC', 'Chicago Fire FC', 'Inter Miami CF',\n",
       "       'Minnesota United FC', 'Houston Dynamo FC', 'St. Louis CITY SC',\n",
       "       'CF Montréal', 'Real Salt Lake City', 'Nashville SC',\n",
       "       'San Jose Earthquakes', 'Seattle Sounders FC', 'Atlanta United FC',\n",
       "       'New York City FC', 'Austin FC', 'Los Angeles FC', 'Toronto FC',\n",
       "       'CA Vélez Sarsfield', 'CA San Lorenzo de Almagro',\n",
       "       'Club Atlético Lanús', 'Defensa y Justicia',\n",
       "       'Club Estudiantes de La Plata', \"CA Newell's Old Boys\", 'CA Colon',\n",
       "       'CA Rosario Central', 'CA Banfield',\n",
       "       'Club de Gimnasia y Esgrima La Plata', 'Club Atlético Tucumán',\n",
       "       'CD Godoy Cruz Antonio Tomba', 'Club Atlético Unión',\n",
       "       'Club Atlético Platense', 'Instituto AC Córdoba',\n",
       "       'CA Sarmiento (Junin)', 'CA Central Córdoba (SdE)',\n",
       "       'CA Barracas Central', 'Arsenal Fútbol Club',\n",
       "       'Club Atlético Talleres', 'Club Atlético Belgrano',\n",
       "       'AA Argentinos Juniors', 'CA Independiente', 'Club Atlético Tigre',\n",
       "       'CA River Plate', 'CA Boca Juniors', 'CA Huracán', 'Racing Club',\n",
       "       'Kawasaki Frontale', 'Yokohama F. Marinos', 'Cerezo Osaka',\n",
       "       'Kyoto Sanga', 'FC Tokyo', 'Nagoya Grampus', 'Kashiwa Reysol',\n",
       "       'Yokohama FC', 'Avispa Fukuoka', 'Sagan Tosu', 'Vissel Kobe',\n",
       "       'Hokkaido Consadole Sapporo', 'Shonan Bellmare', 'Albirex Niigata',\n",
       "       'Kashima Antlers', 'Sanfrecce Hiroshima', 'Urawa Red Diamonds',\n",
       "       'Gamba Osaka', 'Al-Shabab Club (Riyadh)', 'Ettifaq FC',\n",
       "       'Al-Taawoun FC', 'Al-Wehda FC', 'Damac FC', 'Al-Tai',\n",
       "       'Al-Fayha FC', 'Abha Club', 'Al-Khaleej', 'Al-Raed SFC',\n",
       "       'Al-Batin FC', 'Al-Adalah FC', 'Al-Ittihad Club (Jeddah)',\n",
       "       'Al-Fateh SC', 'Al-Hilal Saudi FC', 'Al-Nassr FC',\n",
       "       'Suwon Samsung Bluewings', 'Jeju United', 'Incheon United',\n",
       "       'Gangwon FC', 'Daejeon Hana Citizen', 'Gwangju FC', 'Daegu FC',\n",
       "       'Suwon FC', 'Pohang Steelers', 'FC Seoul',\n",
       "       'Jeonbuk Hyundai Motors', 'Ulsan Hyundai', 'Sekhukhune United FC',\n",
       "       'AmaZulu FC', 'Lamontville Golden Arrows', 'Stellenbosch FC',\n",
       "       'Swallows FC', 'Maritzburg United FC', 'Royal AM FC',\n",
       "       'TS Galaxy FC', 'Richards Bay FC', 'Marumo Gallants FC',\n",
       "       'Cape Town City FC', 'Orlando Pirates', 'SuperSport United',\n",
       "       'Chippa United', 'Mamelodi Sundowns FC', 'Kaizer Chiefs',\n",
       "       'Melbourne Victory', 'Western United FC', 'Newcastle United Jets',\n",
       "       'Perth Glory', 'Macarthur FC', 'Brisbane Roar',\n",
       "       'Central Coast Mariners', 'Wellington Phoenix',\n",
       "       'Melbourne City FC', 'Sydney FC', 'Adelaide United',\n",
       "       'Western Sydney Wanderers'], dtype=object)"
      ]
     },
     "execution_count": 171,
     "metadata": {},
     "output_type": "execute_result"
    }
   ],
   "source": [
    "df['team'].unique()"
   ]
  },
  {
   "cell_type": "code",
   "execution_count": 103,
   "id": "e6c1bfcd",
   "metadata": {},
   "outputs": [
    {
     "data": {
      "text/plain": [
       "Index(['team', 'position', 'age', 'appearance', 'minutes played',\n",
       "       'games_injured', 'award', 'current_value', 'highest_value',\n",
       "       'team_encoded'],\n",
       "      dtype='object')"
      ]
     },
     "execution_count": 103,
     "metadata": {},
     "output_type": "execute_result"
    }
   ],
   "source": [
    "df.columns"
   ]
  },
  {
   "cell_type": "code",
   "execution_count": 104,
   "id": "41044677",
   "metadata": {},
   "outputs": [
    {
     "data": {
      "text/html": [
       "<div>\n",
       "<style scoped>\n",
       "    .dataframe tbody tr th:only-of-type {\n",
       "        vertical-align: middle;\n",
       "    }\n",
       "\n",
       "    .dataframe tbody tr th {\n",
       "        vertical-align: top;\n",
       "    }\n",
       "\n",
       "    .dataframe thead th {\n",
       "        text-align: right;\n",
       "    }\n",
       "</style>\n",
       "<table border=\"1\" class=\"dataframe\">\n",
       "  <thead>\n",
       "    <tr style=\"text-align: right;\">\n",
       "      <th></th>\n",
       "      <th>team</th>\n",
       "      <th>position</th>\n",
       "      <th>age</th>\n",
       "      <th>appearance</th>\n",
       "      <th>minutes played</th>\n",
       "      <th>games_injured</th>\n",
       "      <th>award</th>\n",
       "      <th>current_value</th>\n",
       "      <th>highest_value</th>\n",
       "      <th>team_encoded</th>\n",
       "    </tr>\n",
       "  </thead>\n",
       "  <tbody>\n",
       "    <tr>\n",
       "      <th>0</th>\n",
       "      <td>226</td>\n",
       "      <td>Goalkeeper</td>\n",
       "      <td>32.0</td>\n",
       "      <td>104</td>\n",
       "      <td>9390</td>\n",
       "      <td>5</td>\n",
       "      <td>13</td>\n",
       "      <td>15000000</td>\n",
       "      <td>70000000</td>\n",
       "      <td>12</td>\n",
       "    </tr>\n",
       "    <tr>\n",
       "      <th>1</th>\n",
       "      <td>226</td>\n",
       "      <td>Goalkeeper</td>\n",
       "      <td>30.0</td>\n",
       "      <td>15</td>\n",
       "      <td>1304</td>\n",
       "      <td>58</td>\n",
       "      <td>1</td>\n",
       "      <td>1500000</td>\n",
       "      <td>22000000</td>\n",
       "      <td>12</td>\n",
       "    </tr>\n",
       "    <tr>\n",
       "      <th>2</th>\n",
       "      <td>226</td>\n",
       "      <td>Goalkeeper</td>\n",
       "      <td>37.0</td>\n",
       "      <td>4</td>\n",
       "      <td>292</td>\n",
       "      <td>84</td>\n",
       "      <td>4</td>\n",
       "      <td>600000</td>\n",
       "      <td>6000000</td>\n",
       "      <td>12</td>\n",
       "    </tr>\n",
       "    <tr>\n",
       "      <th>3</th>\n",
       "      <td>226</td>\n",
       "      <td>Defender Centre-Back</td>\n",
       "      <td>25.0</td>\n",
       "      <td>82</td>\n",
       "      <td>6408</td>\n",
       "      <td>22</td>\n",
       "      <td>9</td>\n",
       "      <td>50000000</td>\n",
       "      <td>50000000</td>\n",
       "      <td>12</td>\n",
       "    </tr>\n",
       "    <tr>\n",
       "      <th>4</th>\n",
       "      <td>226</td>\n",
       "      <td>Defender Centre-Back</td>\n",
       "      <td>30.0</td>\n",
       "      <td>63</td>\n",
       "      <td>5031</td>\n",
       "      <td>51</td>\n",
       "      <td>21</td>\n",
       "      <td>40000000</td>\n",
       "      <td>80000000</td>\n",
       "      <td>12</td>\n",
       "    </tr>\n",
       "  </tbody>\n",
       "</table>\n",
       "</div>"
      ],
      "text/plain": [
       "   team              position   age  appearance  minutes played  \\\n",
       "0   226            Goalkeeper  32.0         104            9390   \n",
       "1   226            Goalkeeper  30.0          15            1304   \n",
       "2   226            Goalkeeper  37.0           4             292   \n",
       "3   226  Defender Centre-Back  25.0          82            6408   \n",
       "4   226  Defender Centre-Back  30.0          63            5031   \n",
       "\n",
       "   games_injured  award  current_value  highest_value  team_encoded  \n",
       "0              5     13       15000000       70000000            12  \n",
       "1             58      1        1500000       22000000            12  \n",
       "2             84      4         600000        6000000            12  \n",
       "3             22      9       50000000       50000000            12  \n",
       "4             51     21       40000000       80000000            12  "
      ]
     },
     "execution_count": 104,
     "metadata": {},
     "output_type": "execute_result"
    }
   ],
   "source": [
    "df.head()"
   ]
  },
  {
   "cell_type": "markdown",
   "id": "90e385d2",
   "metadata": {},
   "source": [
    "TEAM COLUMN ----- > DONE✅"
   ]
  },
  {
   "cell_type": "markdown",
   "id": "08089975",
   "metadata": {},
   "source": [
    "### (b). Position Column "
   ]
  },
  {
   "cell_type": "code",
   "execution_count": 105,
   "id": "f4dca777",
   "metadata": {},
   "outputs": [
    {
     "data": {
      "text/plain": [
       "Defender Centre-Back          1821\n",
       "Attack Centre-Forward         1353\n",
       "Goalkeeper                    1229\n",
       "midfield-CentralMidfield      1149\n",
       "midfield-DefensiveMidfield     900\n",
       "Defender Right-Back            867\n",
       "Defender Left-Back             807\n",
       "midfield-AttackingMidfield     769\n",
       "Attack-RightWinger             717\n",
       "Attack-LeftWinger              714\n",
       "midfield-RightMidfield         102\n",
       "midfield-LeftMidfield          100\n",
       "midfield                        75\n",
       "Attack-SecondStriker            65\n",
       "Attack                          53\n",
       "Defender                        33\n",
       "Name: position, dtype: int64"
      ]
     },
     "execution_count": 105,
     "metadata": {},
     "output_type": "execute_result"
    }
   ],
   "source": [
    "df['position'].value_counts()"
   ]
  },
  {
   "cell_type": "code",
   "execution_count": 106,
   "id": "89e3596c",
   "metadata": {},
   "outputs": [
    {
     "data": {
      "image/png": "[encoded data removed]",
      "text/plain": [
       "<Figure size 640x480 with 1 Axes>"
      ]
     },
     "metadata": {},
     "output_type": "display_data"
    }
   ],
   "source": [
    "sns.countplot(x='position', data=df)\n",
    "plt.xticks(rotation=90)  # Rotate x-axis labels for better visibility\n",
    "plt.show()"
   ]
  },
  {
   "cell_type": "markdown",
   "id": "83d72887",
   "metadata": {},
   "source": [
    "Above we can see that last 5 category have very less number and if we create multiple features onto  them it can cause sparsity in our model . So we will combine last 5 of them into a one category that is \"Other\""
   ]
  },
  {
   "cell_type": "code",
   "execution_count": 107,
   "id": "19b318f6",
   "metadata": {},
   "outputs": [
    {
     "data": {
      "image/png": "[encoded data removed]",
      "text/plain": [
       "<Figure size 640x480 with 1 Axes>"
      ]
     },
     "metadata": {},
     "output_type": "display_data"
    }
   ],
   "source": [
    "category_counts = df['position'].value_counts()\n",
    "\n",
    "categories_to_group = category_counts[category_counts < 500].index\n",
    "\n",
    "df['position_grouped'] = df['position'].replace(categories_to_group, 'Other')\n",
    "\n",
    "sns.countplot(x='position_grouped', data=df)\n",
    "plt.xticks(rotation=90)\n",
    "plt.show()"
   ]
  },
  {
   "cell_type": "markdown",
   "id": "b2555e96",
   "metadata": {},
   "source": [
    "Now it look a lot better than previous one .\n",
    "Now we will be label encoding them manually"
   ]
  },
  {
   "cell_type": "code",
   "execution_count": 108,
   "id": "c74f529b",
   "metadata": {},
   "outputs": [
    {
     "data": {
      "text/plain": [
       "Defender Centre-Back          1821\n",
       "Attack Centre-Forward         1353\n",
       "Goalkeeper                    1229\n",
       "midfield-CentralMidfield      1149\n",
       "midfield-DefensiveMidfield     900\n",
       "Defender Right-Back            867\n",
       "Defender Left-Back             807\n",
       "midfield-AttackingMidfield     769\n",
       "Attack-RightWinger             717\n",
       "Attack-LeftWinger              714\n",
       "Other                          428\n",
       "Name: position_grouped, dtype: int64"
      ]
     },
     "execution_count": 108,
     "metadata": {},
     "output_type": "execute_result"
    }
   ],
   "source": [
    "df['position_grouped'].value_counts()"
   ]
  },
  {
   "cell_type": "code",
   "execution_count": 109,
   "id": "ed0d15cb",
   "metadata": {},
   "outputs": [],
   "source": [
    "# Perform label encoding\n",
    "label_encoder = LabelEncoder()\n",
    "df['position_encoded'] = label_encoder.fit_transform(df['position_grouped'])"
   ]
  },
  {
   "cell_type": "code",
   "execution_count": 110,
   "id": "e475b65e",
   "metadata": {},
   "outputs": [
    {
     "data": {
      "text/plain": [
       "(10754, 12)"
      ]
     },
     "execution_count": 110,
     "metadata": {},
     "output_type": "execute_result"
    }
   ],
   "source": [
    "df.shape"
   ]
  },
  {
   "cell_type": "code",
   "execution_count": 111,
   "id": "68edbb30",
   "metadata": {},
   "outputs": [
    {
     "data": {
      "text/plain": [
       "Index(['team', 'position', 'age', 'appearance', 'minutes played',\n",
       "       'games_injured', 'award', 'current_value', 'highest_value',\n",
       "       'team_encoded', 'position_grouped', 'position_encoded'],\n",
       "      dtype='object')"
      ]
     },
     "execution_count": 111,
     "metadata": {},
     "output_type": "execute_result"
    }
   ],
   "source": [
    "df.columns"
   ]
  },
  {
   "cell_type": "code",
   "execution_count": 112,
   "id": "26ad9e68",
   "metadata": {},
   "outputs": [
    {
     "data": {
      "text/plain": [
       "3     1821\n",
       "0     1353\n",
       "6     1229\n",
       "9     1149\n",
       "10     900\n",
       "5      867\n",
       "4      807\n",
       "8      769\n",
       "2      717\n",
       "1      714\n",
       "7      428\n",
       "Name: position_encoded, dtype: int64"
      ]
     },
     "execution_count": 112,
     "metadata": {},
     "output_type": "execute_result"
    }
   ],
   "source": [
    "df['position_encoded'].value_counts()"
   ]
  },
  {
   "cell_type": "markdown",
   "id": "050fda35",
   "metadata": {},
   "source": [
    "POSITION COLUMN ----- > DONE✅"
   ]
  },
  {
   "cell_type": "markdown",
   "id": "8f691a82",
   "metadata": {},
   "source": [
    "### (c) . Age Column"
   ]
  },
  {
   "cell_type": "code",
   "execution_count": 113,
   "id": "3cb611c1",
   "metadata": {},
   "outputs": [
    {
     "data": {
      "text/plain": [
       "count    10754.000000\n",
       "mean        26.041903\n",
       "std          4.777629\n",
       "min         15.000000\n",
       "25%         22.000000\n",
       "50%         26.000000\n",
       "75%         29.000000\n",
       "max         43.000000\n",
       "Name: age, dtype: float64"
      ]
     },
     "execution_count": 113,
     "metadata": {},
     "output_type": "execute_result"
    }
   ],
   "source": [
    "df['age'].describe()"
   ]
  },
  {
   "cell_type": "code",
   "execution_count": 114,
   "id": "89ef873c",
   "metadata": {},
   "outputs": [
    {
     "data": {
      "image/png": "[encoded data removed]",
      "text/plain": [
       "<Figure size 640x480 with 1 Axes>"
      ]
     },
     "metadata": {},
     "output_type": "display_data"
    }
   ],
   "source": [
    "sns.boxplot(df['age'])\n",
    "plt.xlabel('Age Column')\n",
    "plt.title('Box Plot of Age Column')\n",
    "plt.show()"
   ]
  },
  {
   "cell_type": "code",
   "execution_count": 115,
   "id": "10a50f1f",
   "metadata": {},
   "outputs": [
    {
     "data": {
      "image/png": "[encoded data removed]",
      "text/plain": [
       "<Figure size 640x480 with 1 Axes>"
      ]
     },
     "metadata": {},
     "output_type": "display_data"
    }
   ],
   "source": [
    "plt.hist(df['age'], bins=20, color='skyblue', edgecolor='black')\n",
    "plt.xlabel('Age Column')\n",
    "plt.ylabel('Frequency')\n",
    "plt.title('Histogram of Age Column')\n",
    "plt.show()\n"
   ]
  },
  {
   "cell_type": "markdown",
   "id": "72ee058a",
   "metadata": {},
   "source": [
    " It is close to normal distribution so no need of any transformation to this column later we will apply standardization and also outliers are not much "
   ]
  },
  {
   "cell_type": "code",
   "execution_count": 116,
   "id": "4c11d43a",
   "metadata": {},
   "outputs": [
    {
     "name": "stdout",
     "output_type": "stream",
     "text": [
      "Skewness of the column: 0.35392068116849695\n"
     ]
    }
   ],
   "source": [
    "skewness = skew(df['age'])\n",
    "print(f'Skewness of the column: {skewness}')"
   ]
  },
  {
   "cell_type": "markdown",
   "id": "c4be80ed",
   "metadata": {},
   "source": [
    "AGE COLUMN ----- > DONE✅"
   ]
  },
  {
   "cell_type": "markdown",
   "id": "8e804de5",
   "metadata": {},
   "source": [
    "## (d). Appearance Column "
   ]
  },
  {
   "cell_type": "code",
   "execution_count": 117,
   "id": "0eaa480b",
   "metadata": {},
   "outputs": [
    {
     "data": {
      "text/plain": [
       "count    10754.000000\n",
       "mean        36.407011\n",
       "std         26.526541\n",
       "min          0.000000\n",
       "25%         12.000000\n",
       "50%         35.000000\n",
       "75%         59.000000\n",
       "max        107.000000\n",
       "Name: appearance, dtype: float64"
      ]
     },
     "execution_count": 117,
     "metadata": {},
     "output_type": "execute_result"
    }
   ],
   "source": [
    "df['appearance'].describe()"
   ]
  },
  {
   "cell_type": "code",
   "execution_count": 118,
   "id": "4a63b9ab",
   "metadata": {},
   "outputs": [
    {
     "data": {
      "text/plain": [
       "0      389\n",
       "1      333\n",
       "4      225\n",
       "17     221\n",
       "10     216\n",
       "      ... \n",
       "98       3\n",
       "107      3\n",
       "106      2\n",
       "104      2\n",
       "103      1\n",
       "Name: appearance, Length: 108, dtype: int64"
      ]
     },
     "execution_count": 118,
     "metadata": {},
     "output_type": "execute_result"
    }
   ],
   "source": [
    "df['appearance'].value_counts()"
   ]
  },
  {
   "cell_type": "code",
   "execution_count": 119,
   "id": "55528c0f",
   "metadata": {},
   "outputs": [
    {
     "data": {
      "image/png": "[encoded data removed]",
      "text/plain": [
       "<Figure size 640x480 with 1 Axes>"
      ]
     },
     "metadata": {},
     "output_type": "display_data"
    }
   ],
   "source": [
    "sns.boxplot(df['appearance'])\n",
    "plt.xlabel('Appearance Column')\n",
    "plt.title('Box Plot of Appearance Column')\n",
    "plt.show()\n",
    "\n",
    "# No outliers"
   ]
  },
  {
   "cell_type": "code",
   "execution_count": 120,
   "id": "647fd1e8",
   "metadata": {},
   "outputs": [
    {
     "data": {
      "image/png": "[encoded data removed]",
      "text/plain": [
       "<Figure size 640x480 with 1 Axes>"
      ]
     },
     "metadata": {},
     "output_type": "display_data"
    }
   ],
   "source": [
    "plt.hist(df['appearance'], bins=20, color='skyblue', edgecolor='black')\n",
    "plt.xlabel('Appearnce Column')\n",
    "plt.ylabel('Frequency')\n",
    "plt.title('Histogram of Appearance Column')\n",
    "plt.show()\n"
   ]
  },
  {
   "cell_type": "markdown",
   "id": "705b46c9",
   "metadata": {},
   "source": [
    "Here we can say most cokumns have 0 appearance so we have to check what is the matter going there ."
   ]
  },
  {
   "cell_type": "code",
   "execution_count": 121,
   "id": "6ea8fba0",
   "metadata": {},
   "outputs": [
    {
     "data": {
      "text/html": [
       "<div>\n",
       "<style scoped>\n",
       "    .dataframe tbody tr th:only-of-type {\n",
       "        vertical-align: middle;\n",
       "    }\n",
       "\n",
       "    .dataframe tbody tr th {\n",
       "        vertical-align: top;\n",
       "    }\n",
       "\n",
       "    .dataframe thead th {\n",
       "        text-align: right;\n",
       "    }\n",
       "</style>\n",
       "<table border=\"1\" class=\"dataframe\">\n",
       "  <thead>\n",
       "    <tr style=\"text-align: right;\">\n",
       "      <th></th>\n",
       "      <th>team</th>\n",
       "      <th>position</th>\n",
       "      <th>age</th>\n",
       "      <th>appearance</th>\n",
       "      <th>minutes played</th>\n",
       "      <th>games_injured</th>\n",
       "      <th>award</th>\n",
       "      <th>current_value</th>\n",
       "      <th>highest_value</th>\n",
       "      <th>team_encoded</th>\n",
       "      <th>position_grouped</th>\n",
       "      <th>position_encoded</th>\n",
       "    </tr>\n",
       "  </thead>\n",
       "  <tbody>\n",
       "    <tr>\n",
       "      <th>189</th>\n",
       "      <td>137</td>\n",
       "      <td>Goalkeeper</td>\n",
       "      <td>39.0</td>\n",
       "      <td>0</td>\n",
       "      <td>0</td>\n",
       "      <td>32</td>\n",
       "      <td>3</td>\n",
       "      <td>200000</td>\n",
       "      <td>700000</td>\n",
       "      <td>12</td>\n",
       "      <td>Goalkeeper</td>\n",
       "      <td>6</td>\n",
       "    </tr>\n",
       "    <tr>\n",
       "      <th>322</th>\n",
       "      <td>8</td>\n",
       "      <td>Goalkeeper</td>\n",
       "      <td>36.0</td>\n",
       "      <td>0</td>\n",
       "      <td>0</td>\n",
       "      <td>18</td>\n",
       "      <td>1</td>\n",
       "      <td>500000</td>\n",
       "      <td>4500000</td>\n",
       "      <td>12</td>\n",
       "      <td>Goalkeeper</td>\n",
       "      <td>6</td>\n",
       "    </tr>\n",
       "    <tr>\n",
       "      <th>349</th>\n",
       "      <td>61</td>\n",
       "      <td>Goalkeeper</td>\n",
       "      <td>20.0</td>\n",
       "      <td>0</td>\n",
       "      <td>0</td>\n",
       "      <td>0</td>\n",
       "      <td>0</td>\n",
       "      <td>500000</td>\n",
       "      <td>500000</td>\n",
       "      <td>12</td>\n",
       "      <td>Goalkeeper</td>\n",
       "      <td>6</td>\n",
       "    </tr>\n",
       "    <tr>\n",
       "      <th>565</th>\n",
       "      <td>355</td>\n",
       "      <td>Goalkeeper</td>\n",
       "      <td>27.0</td>\n",
       "      <td>0</td>\n",
       "      <td>0</td>\n",
       "      <td>24</td>\n",
       "      <td>3</td>\n",
       "      <td>100000</td>\n",
       "      <td>100000</td>\n",
       "      <td>12</td>\n",
       "      <td>Goalkeeper</td>\n",
       "      <td>6</td>\n",
       "    </tr>\n",
       "    <tr>\n",
       "      <th>620</th>\n",
       "      <td>1</td>\n",
       "      <td>Goalkeeper</td>\n",
       "      <td>29.0</td>\n",
       "      <td>0</td>\n",
       "      <td>0</td>\n",
       "      <td>22</td>\n",
       "      <td>2</td>\n",
       "      <td>250000</td>\n",
       "      <td>800000</td>\n",
       "      <td>12</td>\n",
       "      <td>Goalkeeper</td>\n",
       "      <td>6</td>\n",
       "    </tr>\n",
       "    <tr>\n",
       "      <th>...</th>\n",
       "      <td>...</td>\n",
       "      <td>...</td>\n",
       "      <td>...</td>\n",
       "      <td>...</td>\n",
       "      <td>...</td>\n",
       "      <td>...</td>\n",
       "      <td>...</td>\n",
       "      <td>...</td>\n",
       "      <td>...</td>\n",
       "      <td>...</td>\n",
       "      <td>...</td>\n",
       "      <td>...</td>\n",
       "    </tr>\n",
       "    <tr>\n",
       "      <th>10650</th>\n",
       "      <td>230</td>\n",
       "      <td>Goalkeeper</td>\n",
       "      <td>19.0</td>\n",
       "      <td>0</td>\n",
       "      <td>0</td>\n",
       "      <td>0</td>\n",
       "      <td>0</td>\n",
       "      <td>25000</td>\n",
       "      <td>25000</td>\n",
       "      <td>12</td>\n",
       "      <td>Goalkeeper</td>\n",
       "      <td>6</td>\n",
       "    </tr>\n",
       "    <tr>\n",
       "      <th>10660</th>\n",
       "      <td>230</td>\n",
       "      <td>midfield</td>\n",
       "      <td>19.0</td>\n",
       "      <td>0</td>\n",
       "      <td>0</td>\n",
       "      <td>0</td>\n",
       "      <td>0</td>\n",
       "      <td>25000</td>\n",
       "      <td>25000</td>\n",
       "      <td>12</td>\n",
       "      <td>Other</td>\n",
       "      <td>7</td>\n",
       "    </tr>\n",
       "    <tr>\n",
       "      <th>10663</th>\n",
       "      <td>230</td>\n",
       "      <td>midfield-LeftMidfield</td>\n",
       "      <td>17.0</td>\n",
       "      <td>0</td>\n",
       "      <td>0</td>\n",
       "      <td>0</td>\n",
       "      <td>0</td>\n",
       "      <td>25000</td>\n",
       "      <td>25000</td>\n",
       "      <td>12</td>\n",
       "      <td>Other</td>\n",
       "      <td>7</td>\n",
       "    </tr>\n",
       "    <tr>\n",
       "      <th>10673</th>\n",
       "      <td>230</td>\n",
       "      <td>Attack Centre-Forward</td>\n",
       "      <td>18.0</td>\n",
       "      <td>0</td>\n",
       "      <td>0</td>\n",
       "      <td>12</td>\n",
       "      <td>0</td>\n",
       "      <td>25000</td>\n",
       "      <td>25000</td>\n",
       "      <td>12</td>\n",
       "      <td>Attack Centre-Forward</td>\n",
       "      <td>0</td>\n",
       "    </tr>\n",
       "    <tr>\n",
       "      <th>10699</th>\n",
       "      <td>15</td>\n",
       "      <td>Goalkeeper</td>\n",
       "      <td>19.0</td>\n",
       "      <td>0</td>\n",
       "      <td>0</td>\n",
       "      <td>0</td>\n",
       "      <td>0</td>\n",
       "      <td>50000</td>\n",
       "      <td>50000</td>\n",
       "      <td>12</td>\n",
       "      <td>Goalkeeper</td>\n",
       "      <td>6</td>\n",
       "    </tr>\n",
       "  </tbody>\n",
       "</table>\n",
       "<p>389 rows × 12 columns</p>\n",
       "</div>"
      ],
      "text/plain": [
       "       team               position   age  appearance  minutes played  \\\n",
       "189     137             Goalkeeper  39.0           0               0   \n",
       "322       8             Goalkeeper  36.0           0               0   \n",
       "349      61             Goalkeeper  20.0           0               0   \n",
       "565     355             Goalkeeper  27.0           0               0   \n",
       "620       1             Goalkeeper  29.0           0               0   \n",
       "...     ...                    ...   ...         ...             ...   \n",
       "10650   230             Goalkeeper  19.0           0               0   \n",
       "10660   230               midfield  19.0           0               0   \n",
       "10663   230  midfield-LeftMidfield  17.0           0               0   \n",
       "10673   230  Attack Centre-Forward  18.0           0               0   \n",
       "10699    15             Goalkeeper  19.0           0               0   \n",
       "\n",
       "       games_injured  award  current_value  highest_value  team_encoded  \\\n",
       "189               32      3         200000         700000            12   \n",
       "322               18      1         500000        4500000            12   \n",
       "349                0      0         500000         500000            12   \n",
       "565               24      3         100000         100000            12   \n",
       "620               22      2         250000         800000            12   \n",
       "...              ...    ...            ...            ...           ...   \n",
       "10650              0      0          25000          25000            12   \n",
       "10660              0      0          25000          25000            12   \n",
       "10663              0      0          25000          25000            12   \n",
       "10673             12      0          25000          25000            12   \n",
       "10699              0      0          50000          50000            12   \n",
       "\n",
       "            position_grouped  position_encoded  \n",
       "189               Goalkeeper                 6  \n",
       "322               Goalkeeper                 6  \n",
       "349               Goalkeeper                 6  \n",
       "565               Goalkeeper                 6  \n",
       "620               Goalkeeper                 6  \n",
       "...                      ...               ...  \n",
       "10650             Goalkeeper                 6  \n",
       "10660                  Other                 7  \n",
       "10663                  Other                 7  \n",
       "10673  Attack Centre-Forward                 0  \n",
       "10699             Goalkeeper                 6  \n",
       "\n",
       "[389 rows x 12 columns]"
      ]
     },
     "execution_count": 121,
     "metadata": {},
     "output_type": "execute_result"
    }
   ],
   "source": [
    "zero_appearance_rows = df[df['appearance'] == 0]\n",
    "pd.DataFrame(zero_appearance_rows)\n",
    "\n",
    "# Now we know these were null values "
   ]
  },
  {
   "cell_type": "code",
   "execution_count": 122,
   "id": "a46b8f81",
   "metadata": {},
   "outputs": [
    {
     "name": "stdout",
     "output_type": "stream",
     "text": [
      "35.0\n"
     ]
    }
   ],
   "source": [
    "# Replace zeros with the median\n",
    "median_appearance = df['appearance'].median()\n",
    "print(median_appearance)\n",
    "df['appearance_median'] = df['appearance'].replace(0, median_appearance)"
   ]
  },
  {
   "cell_type": "code",
   "execution_count": 123,
   "id": "bcf84f56",
   "metadata": {},
   "outputs": [
    {
     "data": {
      "text/html": [
       "<div>\n",
       "<style scoped>\n",
       "    .dataframe tbody tr th:only-of-type {\n",
       "        vertical-align: middle;\n",
       "    }\n",
       "\n",
       "    .dataframe tbody tr th {\n",
       "        vertical-align: top;\n",
       "    }\n",
       "\n",
       "    .dataframe thead th {\n",
       "        text-align: right;\n",
       "    }\n",
       "</style>\n",
       "<table border=\"1\" class=\"dataframe\">\n",
       "  <thead>\n",
       "    <tr style=\"text-align: right;\">\n",
       "      <th></th>\n",
       "      <th>team</th>\n",
       "      <th>position</th>\n",
       "      <th>age</th>\n",
       "      <th>appearance</th>\n",
       "      <th>minutes played</th>\n",
       "      <th>games_injured</th>\n",
       "      <th>award</th>\n",
       "      <th>current_value</th>\n",
       "      <th>highest_value</th>\n",
       "      <th>team_encoded</th>\n",
       "      <th>position_grouped</th>\n",
       "      <th>position_encoded</th>\n",
       "      <th>appearance_median</th>\n",
       "    </tr>\n",
       "  </thead>\n",
       "  <tbody>\n",
       "  </tbody>\n",
       "</table>\n",
       "</div>"
      ],
      "text/plain": [
       "Empty DataFrame\n",
       "Columns: [team, position, age, appearance, minutes played, games_injured, award, current_value, highest_value, team_encoded, position_grouped, position_encoded, appearance_median]\n",
       "Index: []"
      ]
     },
     "execution_count": 123,
     "metadata": {},
     "output_type": "execute_result"
    }
   ],
   "source": [
    "zero_appearance_rows = df[df['appearance_median'] == 0]\n",
    "pd.DataFrame(zero_appearance_rows)\n",
    "\n",
    "# Fixed this by replacing it with median values"
   ]
  },
  {
   "cell_type": "code",
   "execution_count": 124,
   "id": "8eca1320",
   "metadata": {},
   "outputs": [
    {
     "name": "stdout",
     "output_type": "stream",
     "text": [
      "Skewness of the column: 0.2875190377527348\n"
     ]
    }
   ],
   "source": [
    "skewness = skew(df['appearance'])\n",
    "print(f'Skewness of the column: {skewness}')"
   ]
  },
  {
   "cell_type": "code",
   "execution_count": 125,
   "id": "aa97017f",
   "metadata": {},
   "outputs": [
    {
     "name": "stdout",
     "output_type": "stream",
     "text": [
      "Skewness of the column: 0.27645811753227995\n"
     ]
    }
   ],
   "source": [
    "skewness = skew(df['appearance_median'])\n",
    "print(f'Skewness of the column: {skewness}')"
   ]
  },
  {
   "cell_type": "markdown",
   "id": "8388d48c",
   "metadata": {},
   "source": [
    "APPEARNCE COLUMN ----- > DONE✅"
   ]
  },
  {
   "cell_type": "markdown",
   "id": "ea4047a3",
   "metadata": {},
   "source": [
    "### (e) Minutes Played Column "
   ]
  },
  {
   "cell_type": "code",
   "execution_count": 126,
   "id": "d3b01647",
   "metadata": {},
   "outputs": [
    {
     "data": {
      "text/plain": [
       "count    10754.000000\n",
       "mean      2470.789381\n",
       "std       2021.703271\n",
       "min          0.000000\n",
       "25%        660.000000\n",
       "50%       2101.500000\n",
       "75%       3968.000000\n",
       "max       9510.000000\n",
       "Name: minutes played, dtype: float64"
      ]
     },
     "execution_count": 126,
     "metadata": {},
     "output_type": "execute_result"
    }
   ],
   "source": [
    "df['minutes played'].describe()"
   ]
  },
  {
   "cell_type": "code",
   "execution_count": 127,
   "id": "c85ccd07",
   "metadata": {},
   "outputs": [
    {
     "data": {
      "image/png": "[encoded data removed]",
      "text/plain": [
       "<Figure size 640x480 with 1 Axes>"
      ]
     },
     "metadata": {},
     "output_type": "display_data"
    }
   ],
   "source": [
    "sns.boxplot(df['minutes played'])\n",
    "plt.xlabel('minutes played Column')\n",
    "plt.title('Box Plot of minutes played Column')\n",
    "plt.show()\n",
    "\n",
    "# there are outliers"
   ]
  },
  {
   "cell_type": "code",
   "execution_count": 128,
   "id": "af331f03",
   "metadata": {},
   "outputs": [
    {
     "data": {
      "image/png": "[encoded data removed]",
      "text/plain": [
       "<Figure size 640x480 with 1 Axes>"
      ]
     },
     "metadata": {},
     "output_type": "display_data"
    }
   ],
   "source": [
    "plt.hist(df['minutes played'], bins=20, color='skyblue', edgecolor='black')\n",
    "plt.xlabel('minutes played Column')\n",
    "plt.ylabel('Frequency')\n",
    "plt.title('Histogram of minutes played Column')\n",
    "plt.show()\n"
   ]
  },
  {
   "cell_type": "markdown",
   "id": "0e781f83",
   "metadata": {},
   "source": [
    "Same here most of values are zero so we will be imputing them with median "
   ]
  },
  {
   "cell_type": "code",
   "execution_count": 129,
   "id": "23d37000",
   "metadata": {},
   "outputs": [],
   "source": [
    "non_zero_median = df[df['minutes played'] > 0]['minutes played'].median()\n",
    "\n",
    "# Replace zeros with the median of non-zero values\n",
    "df['minutes_played_median'] = df['minutes played'].replace(0, non_zero_median)"
   ]
  },
  {
   "cell_type": "code",
   "execution_count": 130,
   "id": "bd53dd44",
   "metadata": {},
   "outputs": [
    {
     "data": {
      "text/plain": [
       "2238    407\n",
       "90       98\n",
       "180      41\n",
       "1530     39\n",
       "450      37\n",
       "       ... \n",
       "1718      1\n",
       "8411      1\n",
       "6621      1\n",
       "6369      1\n",
       "820       1\n",
       "Name: minutes_played_median, Length: 5035, dtype: int64"
      ]
     },
     "execution_count": 130,
     "metadata": {},
     "output_type": "execute_result"
    }
   ],
   "source": [
    "df['minutes_played_median'].value_counts()"
   ]
  },
  {
   "cell_type": "code",
   "execution_count": 131,
   "id": "56ca61ea",
   "metadata": {},
   "outputs": [
    {
     "data": {
      "text/plain": [
       "0       405\n",
       "90       98\n",
       "180      41\n",
       "1530     39\n",
       "450      37\n",
       "       ... \n",
       "1718      1\n",
       "8411      1\n",
       "6621      1\n",
       "6369      1\n",
       "820       1\n",
       "Name: minutes played, Length: 5036, dtype: int64"
      ]
     },
     "execution_count": 131,
     "metadata": {},
     "output_type": "execute_result"
    }
   ],
   "source": [
    "df['minutes played'].value_counts()"
   ]
  },
  {
   "cell_type": "markdown",
   "id": "6d5d2485",
   "metadata": {},
   "source": [
    "Now we have to  deal with outliers and our data is also rif=ght skewed"
   ]
  },
  {
   "cell_type": "code",
   "execution_count": 132,
   "id": "1e0f7843",
   "metadata": {},
   "outputs": [
    {
     "name": "stdout",
     "output_type": "stream",
     "text": [
      "Skewness of the column: 0.636191191534911\n"
     ]
    }
   ],
   "source": [
    "skewness = skew(df['minutes_played_median'])\n",
    "print(f'Skewness of the column: {skewness}')"
   ]
  },
  {
   "cell_type": "code",
   "execution_count": 133,
   "id": "ec416aab",
   "metadata": {},
   "outputs": [],
   "source": [
    "from scipy.stats import boxcox\n",
    "# Box-Cox transformation\n",
    "df['minutes_played_boxcox'],lamda_value = boxcox(df['minutes_played_median'] + 1)"
   ]
  },
  {
   "cell_type": "code",
   "execution_count": 134,
   "id": "427c51ae",
   "metadata": {},
   "outputs": [
    {
     "data": {
      "text/plain": [
       "0.4469754727550972"
      ]
     },
     "execution_count": 134,
     "metadata": {},
     "output_type": "execute_result"
    }
   ],
   "source": [
    "lamda_value"
   ]
  },
  {
   "cell_type": "code",
   "execution_count": 135,
   "id": "24d6f260",
   "metadata": {},
   "outputs": [
    {
     "name": "stdout",
     "output_type": "stream",
     "text": [
      "Skewness of the column: -0.20614137941870347\n"
     ]
    }
   ],
   "source": [
    "skewness = skew(df['minutes_played_boxcox'])\n",
    "print(f'Skewness of the column: {skewness}')"
   ]
  },
  {
   "cell_type": "code",
   "execution_count": 136,
   "id": "c2e8e81d",
   "metadata": {},
   "outputs": [
    {
     "data": {
      "image/png": "[encoded data removed]",
      "text/plain": [
       "<Figure size 640x480 with 1 Axes>"
      ]
     },
     "metadata": {},
     "output_type": "display_data"
    }
   ],
   "source": [
    "sns.boxplot(df['minutes_played_boxcox'])\n",
    "plt.xlabel('minutes played Column')\n",
    "plt.title('Box Plot of minutes played Column')\n",
    "plt.show()\n",
    "\n",
    "# there are outliers"
   ]
  },
  {
   "cell_type": "markdown",
   "id": "3a86591a",
   "metadata": {},
   "source": [
    "Outliers removed "
   ]
  },
  {
   "cell_type": "markdown",
   "id": "58406b8a",
   "metadata": {},
   "source": [
    " Minutes Played Column ----> Done ✅ "
   ]
  },
  {
   "cell_type": "markdown",
   "id": "65a0b4a0",
   "metadata": {},
   "source": [
    "### (f). Games Injured"
   ]
  },
  {
   "cell_type": "code",
   "execution_count": 137,
   "id": "c7ba9bb9",
   "metadata": {},
   "outputs": [
    {
     "data": {
      "text/plain": [
       "0      4227\n",
       "2       277\n",
       "4       252\n",
       "3       250\n",
       "1       247\n",
       "       ... \n",
       "201       1\n",
       "136       1\n",
       "169       1\n",
       "168       1\n",
       "146       1\n",
       "Name: games_injured, Length: 154, dtype: int64"
      ]
     },
     "execution_count": 137,
     "metadata": {},
     "output_type": "execute_result"
    }
   ],
   "source": [
    "df['games_injured'].value_counts()"
   ]
  },
  {
   "cell_type": "code",
   "execution_count": 138,
   "id": "6d98bacd",
   "metadata": {},
   "outputs": [
    {
     "data": {
      "image/png": "[encoded data removed]",
      "text/plain": [
       "<Figure size 640x480 with 1 Axes>"
      ]
     },
     "metadata": {},
     "output_type": "display_data"
    }
   ],
   "source": [
    "plt.hist(df['games_injured'], bins=20, color='skyblue', edgecolor='black')\n",
    "plt.xlabel('games_injured Column')\n",
    "plt.ylabel('Frequency')\n",
    "plt.title('Histogram of games_injured Column')\n",
    "plt.show()\n"
   ]
  },
  {
   "cell_type": "code",
   "execution_count": 139,
   "id": "d45ea8b4",
   "metadata": {},
   "outputs": [],
   "source": [
    "df['games_injured_binary'] = np.where(df['games_injured'] == 0, 0, 1)"
   ]
  },
  {
   "cell_type": "code",
   "execution_count": 140,
   "id": "fee2fd85",
   "metadata": {},
   "outputs": [
    {
     "data": {
      "image/png": "[encoded data removed]",
      "text/plain": [
       "<Figure size 640x480 with 1 Axes>"
      ]
     },
     "metadata": {},
     "output_type": "display_data"
    }
   ],
   "source": [
    "plt.hist(df['games_injured_binary'], bins=20, color='skyblue', edgecolor='black')\n",
    "plt.xlabel('games_injured_binary Column')\n",
    "plt.ylabel('Frequency')\n",
    "plt.title('Histogram of games_injured_binary  Column')\n",
    "plt.show()\n"
   ]
  },
  {
   "cell_type": "markdown",
   "id": "cc474643",
   "metadata": {},
   "source": [
    "I have converted column like if a player is injured it is 1 else it is 0 "
   ]
  },
  {
   "cell_type": "markdown",
   "id": "adaa0005",
   "metadata": {},
   "source": [
    "### (g). Award Column"
   ]
  },
  {
   "cell_type": "code",
   "execution_count": 141,
   "id": "e22df679",
   "metadata": {},
   "outputs": [
    {
     "data": {
      "text/plain": [
       "0     4773\n",
       "1     2211\n",
       "2     1223\n",
       "3      730\n",
       "4      460\n",
       "5      323\n",
       "6      216\n",
       "7      199\n",
       "8      121\n",
       "9      110\n",
       "10      72\n",
       "11      61\n",
       "13      42\n",
       "12      35\n",
       "14      35\n",
       "15      21\n",
       "17      16\n",
       "18      16\n",
       "16      13\n",
       "19      11\n",
       "20      11\n",
       "33       6\n",
       "22       6\n",
       "21       4\n",
       "25       4\n",
       "24       4\n",
       "26       4\n",
       "23       3\n",
       "35       2\n",
       "36       2\n",
       "29       2\n",
       "27       2\n",
       "32       2\n",
       "37       2\n",
       "31       1\n",
       "42       1\n",
       "28       1\n",
       "92       1\n",
       "34       1\n",
       "30       1\n",
       "57       1\n",
       "65       1\n",
       "53       1\n",
       "38       1\n",
       "43       1\n",
       "90       1\n",
       "Name: award, dtype: int64"
      ]
     },
     "execution_count": 141,
     "metadata": {},
     "output_type": "execute_result"
    }
   ],
   "source": [
    "df['award'].value_counts()"
   ]
  },
  {
   "cell_type": "markdown",
   "id": "a8c8a09e",
   "metadata": {},
   "source": [
    "Doing same with this column also "
   ]
  },
  {
   "cell_type": "code",
   "execution_count": 142,
   "id": "bbab0636",
   "metadata": {},
   "outputs": [],
   "source": [
    "df['award_binary'] = np.where(df['award'] == 0, 0, 1)"
   ]
  },
  {
   "cell_type": "code",
   "execution_count": 143,
   "id": "fbcc47fc",
   "metadata": {},
   "outputs": [
    {
     "data": {
      "image/png": "[encoded data removed]",
      "text/plain": [
       "<Figure size 640x480 with 1 Axes>"
      ]
     },
     "metadata": {},
     "output_type": "display_data"
    }
   ],
   "source": [
    "plt.hist(df['award_binary'], bins=20, color='skyblue', edgecolor='black')\n",
    "plt.xlabel('award_binary Column')\n",
    "plt.ylabel('Frequency')\n",
    "plt.title('Histogram of award_binary  Column')\n",
    "plt.show()\n"
   ]
  },
  {
   "cell_type": "markdown",
   "id": "b76ce361",
   "metadata": {},
   "source": [
    "### (h). Current Value Column "
   ]
  },
  {
   "cell_type": "code",
   "execution_count": 144,
   "id": "5015182a",
   "metadata": {},
   "outputs": [
    {
     "data": {
      "text/plain": [
       "1000000      473\n",
       "300000       456\n",
       "500000       441\n",
       "50000        422\n",
       "1500000      412\n",
       "            ... \n",
       "23000000       1\n",
       "180000000      1\n",
       "925000         1\n",
       "5800000        1\n",
       "150000000      1\n",
       "Name: current_value, Length: 128, dtype: int64"
      ]
     },
     "execution_count": 144,
     "metadata": {},
     "output_type": "execute_result"
    }
   ],
   "source": [
    "df['current_value'].value_counts()"
   ]
  },
  {
   "cell_type": "code",
   "execution_count": 145,
   "id": "f6ec30dd",
   "metadata": {},
   "outputs": [
    {
     "data": {
      "image/png": "[encoded data removed]",
      "text/plain": [
       "<Figure size 640x480 with 1 Axes>"
      ]
     },
     "metadata": {},
     "output_type": "display_data"
    }
   ],
   "source": [
    "plt.hist(df['current_value'], bins=20, color='skyblue', edgecolor='black')\n",
    "plt.xlabel('current_value Column')\n",
    "plt.ylabel('Frequency')\n",
    "plt.title('Histogram of current_value Column')\n",
    "plt.show()\n"
   ]
  },
  {
   "cell_type": "code",
   "execution_count": 146,
   "id": "86877da1",
   "metadata": {},
   "outputs": [
    {
     "data": {
      "text/html": [
       "<div>\n",
       "<style scoped>\n",
       "    .dataframe tbody tr th:only-of-type {\n",
       "        vertical-align: middle;\n",
       "    }\n",
       "\n",
       "    .dataframe tbody tr th {\n",
       "        vertical-align: top;\n",
       "    }\n",
       "\n",
       "    .dataframe thead th {\n",
       "        text-align: right;\n",
       "    }\n",
       "</style>\n",
       "<table border=\"1\" class=\"dataframe\">\n",
       "  <thead>\n",
       "    <tr style=\"text-align: right;\">\n",
       "      <th></th>\n",
       "      <th>team</th>\n",
       "      <th>position</th>\n",
       "      <th>age</th>\n",
       "      <th>appearance</th>\n",
       "      <th>minutes played</th>\n",
       "      <th>games_injured</th>\n",
       "      <th>award</th>\n",
       "      <th>current_value</th>\n",
       "      <th>highest_value</th>\n",
       "      <th>team_encoded</th>\n",
       "      <th>position_grouped</th>\n",
       "      <th>position_encoded</th>\n",
       "      <th>appearance_median</th>\n",
       "      <th>minutes_played_median</th>\n",
       "      <th>minutes_played_boxcox</th>\n",
       "      <th>games_injured_binary</th>\n",
       "      <th>award_binary</th>\n",
       "    </tr>\n",
       "  </thead>\n",
       "  <tbody>\n",
       "    <tr>\n",
       "      <th>29</th>\n",
       "      <td>226</td>\n",
       "      <td>Attack-RightWinger</td>\n",
       "      <td>21.000000</td>\n",
       "      <td>24</td>\n",
       "      <td>1700</td>\n",
       "      <td>12</td>\n",
       "      <td>0</td>\n",
       "      <td>0</td>\n",
       "      <td>50000000</td>\n",
       "      <td>12</td>\n",
       "      <td>Attack-RightWinger</td>\n",
       "      <td>2</td>\n",
       "      <td>24</td>\n",
       "      <td>1700</td>\n",
       "      <td>59.958661</td>\n",
       "      <td>1</td>\n",
       "      <td>0</td>\n",
       "    </tr>\n",
       "    <tr>\n",
       "      <th>406</th>\n",
       "      <td>242</td>\n",
       "      <td>Defender Centre-Back</td>\n",
       "      <td>23.000000</td>\n",
       "      <td>76</td>\n",
       "      <td>6560</td>\n",
       "      <td>19</td>\n",
       "      <td>4</td>\n",
       "      <td>0</td>\n",
       "      <td>0</td>\n",
       "      <td>12</td>\n",
       "      <td>Defender Centre-Back</td>\n",
       "      <td>3</td>\n",
       "      <td>76</td>\n",
       "      <td>6560</td>\n",
       "      <td>111.475264</td>\n",
       "      <td>1</td>\n",
       "      <td>1</td>\n",
       "    </tr>\n",
       "    <tr>\n",
       "      <th>407</th>\n",
       "      <td>242</td>\n",
       "      <td>Defender Centre-Back</td>\n",
       "      <td>31.000000</td>\n",
       "      <td>67</td>\n",
       "      <td>5911</td>\n",
       "      <td>30</td>\n",
       "      <td>3</td>\n",
       "      <td>0</td>\n",
       "      <td>0</td>\n",
       "      <td>12</td>\n",
       "      <td>Defender Centre-Back</td>\n",
       "      <td>3</td>\n",
       "      <td>67</td>\n",
       "      <td>5911</td>\n",
       "      <td>106.302558</td>\n",
       "      <td>1</td>\n",
       "      <td>1</td>\n",
       "    </tr>\n",
       "    <tr>\n",
       "      <th>408</th>\n",
       "      <td>242</td>\n",
       "      <td>Defender Centre-Back</td>\n",
       "      <td>29.000000</td>\n",
       "      <td>38</td>\n",
       "      <td>2609</td>\n",
       "      <td>57</td>\n",
       "      <td>2</td>\n",
       "      <td>0</td>\n",
       "      <td>0</td>\n",
       "      <td>12</td>\n",
       "      <td>Defender Centre-Back</td>\n",
       "      <td>3</td>\n",
       "      <td>38</td>\n",
       "      <td>2609</td>\n",
       "      <td>73.075891</td>\n",
       "      <td>1</td>\n",
       "      <td>1</td>\n",
       "    </tr>\n",
       "    <tr>\n",
       "      <th>409</th>\n",
       "      <td>242</td>\n",
       "      <td>Defender Left-Back</td>\n",
       "      <td>27.000000</td>\n",
       "      <td>54</td>\n",
       "      <td>3790</td>\n",
       "      <td>66</td>\n",
       "      <td>0</td>\n",
       "      <td>0</td>\n",
       "      <td>0</td>\n",
       "      <td>12</td>\n",
       "      <td>Defender Left-Back</td>\n",
       "      <td>4</td>\n",
       "      <td>54</td>\n",
       "      <td>3790</td>\n",
       "      <td>86.750746</td>\n",
       "      <td>1</td>\n",
       "      <td>0</td>\n",
       "    </tr>\n",
       "    <tr>\n",
       "      <th>...</th>\n",
       "      <td>...</td>\n",
       "      <td>...</td>\n",
       "      <td>...</td>\n",
       "      <td>...</td>\n",
       "      <td>...</td>\n",
       "      <td>...</td>\n",
       "      <td>...</td>\n",
       "      <td>...</td>\n",
       "      <td>...</td>\n",
       "      <td>...</td>\n",
       "      <td>...</td>\n",
       "      <td>...</td>\n",
       "      <td>...</td>\n",
       "      <td>...</td>\n",
       "      <td>...</td>\n",
       "      <td>...</td>\n",
       "      <td>...</td>\n",
       "    </tr>\n",
       "    <tr>\n",
       "      <th>10581</th>\n",
       "      <td>63</td>\n",
       "      <td>Defender Left-Back</td>\n",
       "      <td>19.000000</td>\n",
       "      <td>0</td>\n",
       "      <td>0</td>\n",
       "      <td>0</td>\n",
       "      <td>0</td>\n",
       "      <td>0</td>\n",
       "      <td>0</td>\n",
       "      <td>12</td>\n",
       "      <td>Defender Left-Back</td>\n",
       "      <td>4</td>\n",
       "      <td>35</td>\n",
       "      <td>2238</td>\n",
       "      <td>68.087511</td>\n",
       "      <td>0</td>\n",
       "      <td>0</td>\n",
       "    </tr>\n",
       "    <tr>\n",
       "      <th>10586</th>\n",
       "      <td>63</td>\n",
       "      <td>midfield</td>\n",
       "      <td>17.000000</td>\n",
       "      <td>0</td>\n",
       "      <td>0</td>\n",
       "      <td>0</td>\n",
       "      <td>0</td>\n",
       "      <td>0</td>\n",
       "      <td>0</td>\n",
       "      <td>12</td>\n",
       "      <td>Other</td>\n",
       "      <td>7</td>\n",
       "      <td>35</td>\n",
       "      <td>2238</td>\n",
       "      <td>68.087511</td>\n",
       "      <td>0</td>\n",
       "      <td>0</td>\n",
       "    </tr>\n",
       "    <tr>\n",
       "      <th>10587</th>\n",
       "      <td>63</td>\n",
       "      <td>midfield</td>\n",
       "      <td>26.041903</td>\n",
       "      <td>0</td>\n",
       "      <td>0</td>\n",
       "      <td>0</td>\n",
       "      <td>0</td>\n",
       "      <td>0</td>\n",
       "      <td>0</td>\n",
       "      <td>12</td>\n",
       "      <td>Other</td>\n",
       "      <td>7</td>\n",
       "      <td>35</td>\n",
       "      <td>2238</td>\n",
       "      <td>68.087511</td>\n",
       "      <td>0</td>\n",
       "      <td>0</td>\n",
       "    </tr>\n",
       "    <tr>\n",
       "      <th>10686</th>\n",
       "      <td>328</td>\n",
       "      <td>midfield-DefensiveMidfield</td>\n",
       "      <td>19.000000</td>\n",
       "      <td>1</td>\n",
       "      <td>3</td>\n",
       "      <td>0</td>\n",
       "      <td>0</td>\n",
       "      <td>0</td>\n",
       "      <td>0</td>\n",
       "      <td>12</td>\n",
       "      <td>midfield-DefensiveMidfield</td>\n",
       "      <td>10</td>\n",
       "      <td>1</td>\n",
       "      <td>3</td>\n",
       "      <td>1.920146</td>\n",
       "      <td>0</td>\n",
       "      <td>0</td>\n",
       "    </tr>\n",
       "    <tr>\n",
       "      <th>10717</th>\n",
       "      <td>15</td>\n",
       "      <td>Attack</td>\n",
       "      <td>26.000000</td>\n",
       "      <td>1</td>\n",
       "      <td>0</td>\n",
       "      <td>0</td>\n",
       "      <td>0</td>\n",
       "      <td>0</td>\n",
       "      <td>0</td>\n",
       "      <td>12</td>\n",
       "      <td>Other</td>\n",
       "      <td>7</td>\n",
       "      <td>1</td>\n",
       "      <td>2238</td>\n",
       "      <td>68.087511</td>\n",
       "      <td>0</td>\n",
       "      <td>0</td>\n",
       "    </tr>\n",
       "  </tbody>\n",
       "</table>\n",
       "<p>167 rows × 17 columns</p>\n",
       "</div>"
      ],
      "text/plain": [
       "       team                    position        age  appearance  \\\n",
       "29      226          Attack-RightWinger  21.000000          24   \n",
       "406     242        Defender Centre-Back  23.000000          76   \n",
       "407     242        Defender Centre-Back  31.000000          67   \n",
       "408     242        Defender Centre-Back  29.000000          38   \n",
       "409     242          Defender Left-Back  27.000000          54   \n",
       "...     ...                         ...        ...         ...   \n",
       "10581    63          Defender Left-Back  19.000000           0   \n",
       "10586    63                    midfield  17.000000           0   \n",
       "10587    63                    midfield  26.041903           0   \n",
       "10686   328  midfield-DefensiveMidfield  19.000000           1   \n",
       "10717    15                      Attack  26.000000           1   \n",
       "\n",
       "       minutes played  games_injured  award  current_value  highest_value  \\\n",
       "29               1700             12      0              0       50000000   \n",
       "406              6560             19      4              0              0   \n",
       "407              5911             30      3              0              0   \n",
       "408              2609             57      2              0              0   \n",
       "409              3790             66      0              0              0   \n",
       "...               ...            ...    ...            ...            ...   \n",
       "10581               0              0      0              0              0   \n",
       "10586               0              0      0              0              0   \n",
       "10587               0              0      0              0              0   \n",
       "10686               3              0      0              0              0   \n",
       "10717               0              0      0              0              0   \n",
       "\n",
       "       team_encoded            position_grouped  position_encoded  \\\n",
       "29               12          Attack-RightWinger                 2   \n",
       "406              12        Defender Centre-Back                 3   \n",
       "407              12        Defender Centre-Back                 3   \n",
       "408              12        Defender Centre-Back                 3   \n",
       "409              12          Defender Left-Back                 4   \n",
       "...             ...                         ...               ...   \n",
       "10581            12          Defender Left-Back                 4   \n",
       "10586            12                       Other                 7   \n",
       "10587            12                       Other                 7   \n",
       "10686            12  midfield-DefensiveMidfield                10   \n",
       "10717            12                       Other                 7   \n",
       "\n",
       "       appearance_median  minutes_played_median  minutes_played_boxcox  \\\n",
       "29                    24                   1700              59.958661   \n",
       "406                   76                   6560             111.475264   \n",
       "407                   67                   5911             106.302558   \n",
       "408                   38                   2609              73.075891   \n",
       "409                   54                   3790              86.750746   \n",
       "...                  ...                    ...                    ...   \n",
       "10581                 35                   2238              68.087511   \n",
       "10586                 35                   2238              68.087511   \n",
       "10587                 35                   2238              68.087511   \n",
       "10686                  1                      3               1.920146   \n",
       "10717                  1                   2238              68.087511   \n",
       "\n",
       "       games_injured_binary  award_binary  \n",
       "29                        1             0  \n",
       "406                       1             1  \n",
       "407                       1             1  \n",
       "408                       1             1  \n",
       "409                       1             0  \n",
       "...                     ...           ...  \n",
       "10581                     0             0  \n",
       "10586                     0             0  \n",
       "10587                     0             0  \n",
       "10686                     0             0  \n",
       "10717                     0             0  \n",
       "\n",
       "[167 rows x 17 columns]"
      ]
     },
     "execution_count": 146,
     "metadata": {},
     "output_type": "execute_result"
    }
   ],
   "source": [
    "# Dropping zero values as they are less\n",
    "zero_value_players = df[df['current_value'] == 0]\n",
    "zero_value_players"
   ]
  },
  {
   "cell_type": "code",
   "execution_count": 147,
   "id": "81d51662",
   "metadata": {},
   "outputs": [],
   "source": [
    "\n",
    "zero_value_players = df[df['current_value'] == 0]\n",
    "\n",
    "indices_to_drop = zero_value_players.index\n",
    "\n",
    "df.drop(indices_to_drop, inplace=True)\n"
   ]
  },
  {
   "cell_type": "code",
   "execution_count": 148,
   "id": "4b20f09c",
   "metadata": {},
   "outputs": [
    {
     "data": {
      "text/html": [
       "<div>\n",
       "<style scoped>\n",
       "    .dataframe tbody tr th:only-of-type {\n",
       "        vertical-align: middle;\n",
       "    }\n",
       "\n",
       "    .dataframe tbody tr th {\n",
       "        vertical-align: top;\n",
       "    }\n",
       "\n",
       "    .dataframe thead th {\n",
       "        text-align: right;\n",
       "    }\n",
       "</style>\n",
       "<table border=\"1\" class=\"dataframe\">\n",
       "  <thead>\n",
       "    <tr style=\"text-align: right;\">\n",
       "      <th></th>\n",
       "      <th>team</th>\n",
       "      <th>position</th>\n",
       "      <th>age</th>\n",
       "      <th>appearance</th>\n",
       "      <th>minutes played</th>\n",
       "      <th>games_injured</th>\n",
       "      <th>award</th>\n",
       "      <th>current_value</th>\n",
       "      <th>highest_value</th>\n",
       "      <th>team_encoded</th>\n",
       "      <th>position_grouped</th>\n",
       "      <th>position_encoded</th>\n",
       "      <th>appearance_median</th>\n",
       "      <th>minutes_played_median</th>\n",
       "      <th>minutes_played_boxcox</th>\n",
       "      <th>games_injured_binary</th>\n",
       "      <th>award_binary</th>\n",
       "    </tr>\n",
       "  </thead>\n",
       "  <tbody>\n",
       "  </tbody>\n",
       "</table>\n",
       "</div>"
      ],
      "text/plain": [
       "Empty DataFrame\n",
       "Columns: [team, position, age, appearance, minutes played, games_injured, award, current_value, highest_value, team_encoded, position_grouped, position_encoded, appearance_median, minutes_played_median, minutes_played_boxcox, games_injured_binary, award_binary]\n",
       "Index: []"
      ]
     },
     "execution_count": 148,
     "metadata": {},
     "output_type": "execute_result"
    }
   ],
   "source": [
    "# Checking \n",
    "zero_value_players = df[df['current_value'] == 0]\n",
    "zero_value_players"
   ]
  },
  {
   "cell_type": "markdown",
   "id": "e23c2660",
   "metadata": {},
   "source": [
    "### ALLL DATA CLEANING AND TRANSFORMATION  FEATURE ENGINEERING DONE ✅"
   ]
  },
  {
   "cell_type": "code",
   "execution_count": 149,
   "id": "841900d6",
   "metadata": {},
   "outputs": [
    {
     "data": {
      "text/html": [
       "<div>\n",
       "<style scoped>\n",
       "    .dataframe tbody tr th:only-of-type {\n",
       "        vertical-align: middle;\n",
       "    }\n",
       "\n",
       "    .dataframe tbody tr th {\n",
       "        vertical-align: top;\n",
       "    }\n",
       "\n",
       "    .dataframe thead th {\n",
       "        text-align: right;\n",
       "    }\n",
       "</style>\n",
       "<table border=\"1\" class=\"dataframe\">\n",
       "  <thead>\n",
       "    <tr style=\"text-align: right;\">\n",
       "      <th></th>\n",
       "      <th>team</th>\n",
       "      <th>position</th>\n",
       "      <th>age</th>\n",
       "      <th>appearance</th>\n",
       "      <th>minutes played</th>\n",
       "      <th>games_injured</th>\n",
       "      <th>award</th>\n",
       "      <th>current_value</th>\n",
       "      <th>highest_value</th>\n",
       "      <th>team_encoded</th>\n",
       "      <th>position_grouped</th>\n",
       "      <th>position_encoded</th>\n",
       "      <th>appearance_median</th>\n",
       "      <th>minutes_played_median</th>\n",
       "      <th>minutes_played_boxcox</th>\n",
       "      <th>games_injured_binary</th>\n",
       "      <th>award_binary</th>\n",
       "    </tr>\n",
       "  </thead>\n",
       "  <tbody>\n",
       "    <tr>\n",
       "      <th>0</th>\n",
       "      <td>226</td>\n",
       "      <td>Goalkeeper</td>\n",
       "      <td>32.0</td>\n",
       "      <td>104</td>\n",
       "      <td>9390</td>\n",
       "      <td>5</td>\n",
       "      <td>13</td>\n",
       "      <td>15000000</td>\n",
       "      <td>70000000</td>\n",
       "      <td>12</td>\n",
       "      <td>Goalkeeper</td>\n",
       "      <td>6</td>\n",
       "      <td>104</td>\n",
       "      <td>9390</td>\n",
       "      <td>131.244235</td>\n",
       "      <td>1</td>\n",
       "      <td>1</td>\n",
       "    </tr>\n",
       "    <tr>\n",
       "      <th>1</th>\n",
       "      <td>226</td>\n",
       "      <td>Goalkeeper</td>\n",
       "      <td>30.0</td>\n",
       "      <td>15</td>\n",
       "      <td>1304</td>\n",
       "      <td>58</td>\n",
       "      <td>1</td>\n",
       "      <td>1500000</td>\n",
       "      <td>22000000</td>\n",
       "      <td>12</td>\n",
       "      <td>Goalkeeper</td>\n",
       "      <td>6</td>\n",
       "      <td>15</td>\n",
       "      <td>1304</td>\n",
       "      <td>53.010897</td>\n",
       "      <td>1</td>\n",
       "      <td>1</td>\n",
       "    </tr>\n",
       "    <tr>\n",
       "      <th>2</th>\n",
       "      <td>226</td>\n",
       "      <td>Goalkeeper</td>\n",
       "      <td>37.0</td>\n",
       "      <td>4</td>\n",
       "      <td>292</td>\n",
       "      <td>84</td>\n",
       "      <td>4</td>\n",
       "      <td>600000</td>\n",
       "      <td>6000000</td>\n",
       "      <td>12</td>\n",
       "      <td>Goalkeeper</td>\n",
       "      <td>6</td>\n",
       "      <td>4</td>\n",
       "      <td>292</td>\n",
       "      <td>26.099203</td>\n",
       "      <td>1</td>\n",
       "      <td>1</td>\n",
       "    </tr>\n",
       "    <tr>\n",
       "      <th>3</th>\n",
       "      <td>226</td>\n",
       "      <td>Defender Centre-Back</td>\n",
       "      <td>25.0</td>\n",
       "      <td>82</td>\n",
       "      <td>6408</td>\n",
       "      <td>22</td>\n",
       "      <td>9</td>\n",
       "      <td>50000000</td>\n",
       "      <td>50000000</td>\n",
       "      <td>12</td>\n",
       "      <td>Defender Centre-Back</td>\n",
       "      <td>3</td>\n",
       "      <td>82</td>\n",
       "      <td>6408</td>\n",
       "      <td>110.290116</td>\n",
       "      <td>1</td>\n",
       "      <td>1</td>\n",
       "    </tr>\n",
       "    <tr>\n",
       "      <th>4</th>\n",
       "      <td>226</td>\n",
       "      <td>Defender Centre-Back</td>\n",
       "      <td>30.0</td>\n",
       "      <td>63</td>\n",
       "      <td>5031</td>\n",
       "      <td>51</td>\n",
       "      <td>21</td>\n",
       "      <td>40000000</td>\n",
       "      <td>80000000</td>\n",
       "      <td>12</td>\n",
       "      <td>Defender Centre-Back</td>\n",
       "      <td>3</td>\n",
       "      <td>63</td>\n",
       "      <td>5031</td>\n",
       "      <td>98.758602</td>\n",
       "      <td>1</td>\n",
       "      <td>1</td>\n",
       "    </tr>\n",
       "  </tbody>\n",
       "</table>\n",
       "</div>"
      ],
      "text/plain": [
       "   team              position   age  appearance  minutes played  \\\n",
       "0   226            Goalkeeper  32.0         104            9390   \n",
       "1   226            Goalkeeper  30.0          15            1304   \n",
       "2   226            Goalkeeper  37.0           4             292   \n",
       "3   226  Defender Centre-Back  25.0          82            6408   \n",
       "4   226  Defender Centre-Back  30.0          63            5031   \n",
       "\n",
       "   games_injured  award  current_value  highest_value  team_encoded  \\\n",
       "0              5     13       15000000       70000000            12   \n",
       "1             58      1        1500000       22000000            12   \n",
       "2             84      4         600000        6000000            12   \n",
       "3             22      9       50000000       50000000            12   \n",
       "4             51     21       40000000       80000000            12   \n",
       "\n",
       "       position_grouped  position_encoded  appearance_median  \\\n",
       "0            Goalkeeper                 6                104   \n",
       "1            Goalkeeper                 6                 15   \n",
       "2            Goalkeeper                 6                  4   \n",
       "3  Defender Centre-Back                 3                 82   \n",
       "4  Defender Centre-Back                 3                 63   \n",
       "\n",
       "   minutes_played_median  minutes_played_boxcox  games_injured_binary  \\\n",
       "0                   9390             131.244235                     1   \n",
       "1                   1304              53.010897                     1   \n",
       "2                    292              26.099203                     1   \n",
       "3                   6408             110.290116                     1   \n",
       "4                   5031              98.758602                     1   \n",
       "\n",
       "   award_binary  \n",
       "0             1  \n",
       "1             1  \n",
       "2             1  \n",
       "3             1  \n",
       "4             1  "
      ]
     },
     "execution_count": 149,
     "metadata": {},
     "output_type": "execute_result"
    }
   ],
   "source": [
    "df.head()"
   ]
  },
  {
   "cell_type": "markdown",
   "id": "269dca1b",
   "metadata": {},
   "source": [
    "Removing columns that we dont need as we have transformed them "
   ]
  },
  {
   "cell_type": "code",
   "execution_count": 151,
   "id": "66f6e367",
   "metadata": {},
   "outputs": [],
   "source": [
    "df.drop(['minutes_played_median'  ,'position_grouped' , 'team' , 'position' ,'appearance' ,'minutes played' , 'games_injured' ,'award' ] , axis=1 , inplace=True)"
   ]
  },
  {
   "cell_type": "code",
   "execution_count": 152,
   "id": "30c69523",
   "metadata": {},
   "outputs": [
    {
     "data": {
      "text/plain": [
       "(10587, 9)"
      ]
     },
     "execution_count": 152,
     "metadata": {},
     "output_type": "execute_result"
    }
   ],
   "source": [
    "df.shape"
   ]
  },
  {
   "cell_type": "code",
   "execution_count": 154,
   "id": "0eec933e",
   "metadata": {},
   "outputs": [
    {
     "data": {
      "text/html": [
       "<div>\n",
       "<style scoped>\n",
       "    .dataframe tbody tr th:only-of-type {\n",
       "        vertical-align: middle;\n",
       "    }\n",
       "\n",
       "    .dataframe tbody tr th {\n",
       "        vertical-align: top;\n",
       "    }\n",
       "\n",
       "    .dataframe thead th {\n",
       "        text-align: right;\n",
       "    }\n",
       "</style>\n",
       "<table border=\"1\" class=\"dataframe\">\n",
       "  <thead>\n",
       "    <tr style=\"text-align: right;\">\n",
       "      <th></th>\n",
       "      <th>age</th>\n",
       "      <th>current_value</th>\n",
       "      <th>highest_value</th>\n",
       "      <th>team_encoded</th>\n",
       "      <th>position_encoded</th>\n",
       "      <th>appearance_median</th>\n",
       "      <th>minutes_played_boxcox</th>\n",
       "      <th>games_injured_binary</th>\n",
       "      <th>award_binary</th>\n",
       "    </tr>\n",
       "  </thead>\n",
       "  <tbody>\n",
       "    <tr>\n",
       "      <th>0</th>\n",
       "      <td>32.0</td>\n",
       "      <td>15000000</td>\n",
       "      <td>70000000</td>\n",
       "      <td>12</td>\n",
       "      <td>6</td>\n",
       "      <td>104</td>\n",
       "      <td>131.244235</td>\n",
       "      <td>1</td>\n",
       "      <td>1</td>\n",
       "    </tr>\n",
       "    <tr>\n",
       "      <th>1</th>\n",
       "      <td>30.0</td>\n",
       "      <td>1500000</td>\n",
       "      <td>22000000</td>\n",
       "      <td>12</td>\n",
       "      <td>6</td>\n",
       "      <td>15</td>\n",
       "      <td>53.010897</td>\n",
       "      <td>1</td>\n",
       "      <td>1</td>\n",
       "    </tr>\n",
       "    <tr>\n",
       "      <th>2</th>\n",
       "      <td>37.0</td>\n",
       "      <td>600000</td>\n",
       "      <td>6000000</td>\n",
       "      <td>12</td>\n",
       "      <td>6</td>\n",
       "      <td>4</td>\n",
       "      <td>26.099203</td>\n",
       "      <td>1</td>\n",
       "      <td>1</td>\n",
       "    </tr>\n",
       "    <tr>\n",
       "      <th>3</th>\n",
       "      <td>25.0</td>\n",
       "      <td>50000000</td>\n",
       "      <td>50000000</td>\n",
       "      <td>12</td>\n",
       "      <td>3</td>\n",
       "      <td>82</td>\n",
       "      <td>110.290116</td>\n",
       "      <td>1</td>\n",
       "      <td>1</td>\n",
       "    </tr>\n",
       "    <tr>\n",
       "      <th>4</th>\n",
       "      <td>30.0</td>\n",
       "      <td>40000000</td>\n",
       "      <td>80000000</td>\n",
       "      <td>12</td>\n",
       "      <td>3</td>\n",
       "      <td>63</td>\n",
       "      <td>98.758602</td>\n",
       "      <td>1</td>\n",
       "      <td>1</td>\n",
       "    </tr>\n",
       "  </tbody>\n",
       "</table>\n",
       "</div>"
      ],
      "text/plain": [
       "    age  current_value  highest_value  team_encoded  position_encoded  \\\n",
       "0  32.0       15000000       70000000            12                 6   \n",
       "1  30.0        1500000       22000000            12                 6   \n",
       "2  37.0         600000        6000000            12                 6   \n",
       "3  25.0       50000000       50000000            12                 3   \n",
       "4  30.0       40000000       80000000            12                 3   \n",
       "\n",
       "   appearance_median  minutes_played_boxcox  games_injured_binary  \\\n",
       "0                104             131.244235                     1   \n",
       "1                 15              53.010897                     1   \n",
       "2                  4              26.099203                     1   \n",
       "3                 82             110.290116                     1   \n",
       "4                 63              98.758602                     1   \n",
       "\n",
       "   award_binary  \n",
       "0             1  \n",
       "1             1  \n",
       "2             1  \n",
       "3             1  \n",
       "4             1  "
      ]
     },
     "execution_count": 154,
     "metadata": {},
     "output_type": "execute_result"
    }
   ],
   "source": [
    "df.head()"
   ]
  },
  {
   "cell_type": "code",
   "execution_count": 153,
   "id": "f23a5cca",
   "metadata": {},
   "outputs": [],
   "source": [
    "df.to_csv(\"final_data_encoded.csv\",index=False)"
   ]
  },
  {
   "cell_type": "markdown",
   "id": "ad4fec10",
   "metadata": {},
   "source": [
    "## 6. MODEL MAKING "
   ]
  },
  {
   "cell_type": "markdown",
   "id": "53e41954",
   "metadata": {},
   "source": [
    "### Firstly testing all models to see which is giving good results then will be finetuning that model"
   ]
  },
  {
   "cell_type": "code",
   "execution_count": 155,
   "id": "fd61bbe9",
   "metadata": {},
   "outputs": [
    {
     "name": "stdout",
     "output_type": "stream",
     "text": [
      "Linear Regression: Root Mean Squared Error (RMSE): 7141751.937373303\n",
      "Ridge Regression: Root Mean Squared Error (RMSE): 7141701.507417808\n",
      "Lasso Regression: Root Mean Squared Error (RMSE): 7141751.781446039\n",
      "ElasticNet Regression: Root Mean Squared Error (RMSE): 8228349.762627262\n",
      "Decision Tree Regressor: Root Mean Squared Error (RMSE): 8648881.46946208\n",
      "Random Forest Regressor: Root Mean Squared Error (RMSE): 5845730.534049488\n",
      "Gradient Boosting Regressor: Root Mean Squared Error (RMSE): 5704600.283796346\n",
      "AdaBoost Regressor: Root Mean Squared Error (RMSE): 13365522.565382507\n",
      "Support Vector Regressor: Root Mean Squared Error (RMSE): 15504004.1788963\n",
      "XGBoost Regressor: Root Mean Squared Error (RMSE): 5852830.119548589\n",
      "[LightGBM] [Warning] Auto-choosing col-wise multi-threading, the overhead of testing was 0.001256 seconds.\n",
      "You can set `force_col_wise=true` to remove the overhead.\n",
      "[LightGBM] [Info] Total Bins 534\n",
      "[LightGBM] [Info] Number of data points in the train set: 8469, number of used features: 8\n",
      "[LightGBM] [Info] Start training from score 6123402.999173\n",
      "LightGBM Regressor: Root Mean Squared Error (RMSE): 6265797.848237828\n",
      "CatBoost Regressor: Root Mean Squared Error (RMSE): 5917272.642664164\n"
     ]
    }
   ],
   "source": [
    "# Defining our input and target features\n",
    "X = df.drop('highest_value', axis=1)\n",
    "y = df['highest_value']\n",
    "\n",
    "# Split the data into training and testing sets\n",
    "X_train, X_test, y_train, y_test = train_test_split(X, y, test_size=0.2, random_state=42)\n",
    "\n",
    "\n",
    "# Standardizinng them\n",
    "scaler = StandardScaler()\n",
    "X_train = scaler.fit_transform(X_train)\n",
    "X_test = scaler.transform(X_test)\n",
    "\n",
    "\n",
    "# Initialize regressor models\n",
    "models = {\n",
    "    'Linear Regression': LinearRegression(),\n",
    "    'Ridge Regression': Ridge(),\n",
    "    'Lasso Regression': Lasso(),\n",
    "    'ElasticNet Regression': ElasticNet(),\n",
    "    'Decision Tree Regressor': DecisionTreeRegressor(random_state=42),\n",
    "    'Random Forest Regressor': RandomForestRegressor(random_state=42),\n",
    "    'Gradient Boosting Regressor': GradientBoostingRegressor(random_state=42),\n",
    "    'AdaBoost Regressor': AdaBoostRegressor(random_state=42),\n",
    "    'Support Vector Regressor': SVR(),\n",
    "    'XGBoost Regressor': XGBRegressor(objective='reg:squarederror', random_state=42),\n",
    "    'LightGBM Regressor': LGBMRegressor(random_state=42),\n",
    "    'CatBoost Regressor': CatBoostRegressor(random_state=42, verbose=False)\n",
    "}\n",
    "\n",
    "# Train and evaluate each model\n",
    "for model_name, model in models.items():\n",
    "    # Train the model\n",
    "    model.fit(X_train, y_train)\n",
    "\n",
    "    # Make predictions\n",
    "    y_pred = model.predict(X_test)\n",
    "\n",
    "    # Evaluate the model using RMSE\n",
    "    rmse = mean_squared_error(y_test, y_pred, squared=False)  # squared=False returns RMSE\n",
    "    print(f'{model_name}: Root Mean Squared Error (RMSE): {rmse}')\n"
   ]
  },
  {
   "cell_type": "markdown",
   "id": "a67559ac",
   "metadata": {},
   "source": [
    "Our Best Performing models were :\n",
    "1. Random Forest Regressor\n",
    "2. Gradient Boosting Regressor\n",
    "3. XG  Boost Regressor\n",
    "4. CatBoost Regressor\n",
    "\n",
    "----> I will be choosing Gradient Boosting Regressor . You can choose any !!!"
   ]
  },
  {
   "cell_type": "markdown",
   "id": "4dc10e63",
   "metadata": {},
   "source": [
    "### GRADIENT BOOSTING REGRESSOR ( Hyper Parameter Tuning )\n",
    "1. GridSearch CV ( Slow but more accuracy )\n",
    "2. RandomizedSearch CV ( Fast )"
   ]
  },
  {
   "cell_type": "code",
   "execution_count": 162,
   "id": "3917c9c9",
   "metadata": {},
   "outputs": [],
   "source": [
    "df=pd.read_csv('final_data_encoded.csv')"
   ]
  },
  {
   "cell_type": "code",
   "execution_count": 164,
   "id": "05f273a8",
   "metadata": {},
   "outputs": [
    {
     "data": {
      "text/html": [
       "<div>\n",
       "<style scoped>\n",
       "    .dataframe tbody tr th:only-of-type {\n",
       "        vertical-align: middle;\n",
       "    }\n",
       "\n",
       "    .dataframe tbody tr th {\n",
       "        vertical-align: top;\n",
       "    }\n",
       "\n",
       "    .dataframe thead th {\n",
       "        text-align: right;\n",
       "    }\n",
       "</style>\n",
       "<table border=\"1\" class=\"dataframe\">\n",
       "  <thead>\n",
       "    <tr style=\"text-align: right;\">\n",
       "      <th></th>\n",
       "      <th>age</th>\n",
       "      <th>current_value</th>\n",
       "      <th>team_encoded</th>\n",
       "      <th>position_encoded</th>\n",
       "      <th>appearance_median</th>\n",
       "      <th>minutes_played_boxcox</th>\n",
       "      <th>games_injured_binary</th>\n",
       "      <th>award_binary</th>\n",
       "    </tr>\n",
       "  </thead>\n",
       "  <tbody>\n",
       "    <tr>\n",
       "      <th>1097</th>\n",
       "      <td>31.0</td>\n",
       "      <td>5000000</td>\n",
       "      <td>12</td>\n",
       "      <td>3</td>\n",
       "      <td>74</td>\n",
       "      <td>109.786458</td>\n",
       "      <td>1</td>\n",
       "      <td>1</td>\n",
       "    </tr>\n",
       "  </tbody>\n",
       "</table>\n",
       "</div>"
      ],
      "text/plain": [
       "       age  current_value  team_encoded  position_encoded  appearance_median  \\\n",
       "1097  31.0        5000000            12                 3                 74   \n",
       "\n",
       "      minutes_played_boxcox  games_injured_binary  award_binary  \n",
       "1097             109.786458                     1             1  "
      ]
     },
     "execution_count": 164,
     "metadata": {},
     "output_type": "execute_result"
    }
   ],
   "source": [
    "X = df.drop('highest_value', axis=1)\n",
    "y = df['highest_value']\n",
    "\n",
    "# Split the data into training and testing sets\n",
    "X_train, X_test, y_train, y_test = train_test_split(X, y, test_size=0.2, random_state=42)\n",
    "X_train[:1]"
   ]
  },
  {
   "cell_type": "code",
   "execution_count": null,
   "id": "14d36889",
   "metadata": {},
   "outputs": [],
   "source": [
    "# -------> GRID SEARCH CV\n",
    "\n",
    "# # Defining our input and target features\n",
    "# X = df.drop('highest_value', axis=1)\n",
    "# y = df['highest_value']\n",
    "\n",
    "# # Split the data into training and testing sets\n",
    "# X_train, X_test, y_train, y_test = train_test_split(X, y, test_size=0.2, random_state=42)\n",
    "\n",
    "\n",
    "# # Standardizinng them\n",
    "# scaler = StandardScaler()\n",
    "# X_train = scaler.fit_transform(X_train)\n",
    "# X_test = scaler.transform(X_test)\n",
    "\n",
    "# # Define the Gradient Boosting Regressor\n",
    "# gb_regressor = GradientBoostingRegressor()\n",
    "\n",
    "# # Define the parameter grid for grid search\n",
    "# param_grid = {\n",
    "#     'n_estimators': [50, 100, 200],\n",
    "#     'learning_rate': [0.01, 0.1, 0.2],\n",
    "#     'max_depth': [3, 4, 5],\n",
    "#     'min_samples_split': [2, 5, 10],\n",
    "#     'min_samples_leaf': [1, 2, 4],\n",
    "#     'subsample': [0.8, 0.9, 1.0]\n",
    "# }\n",
    "\n",
    "# # Create the GridSearchCV object\n",
    "# grid_search = GridSearchCV(estimator=gb_regressor, param_grid=param_grid, \n",
    "#                            scoring='neg_mean_squared_error', cv=5, n_jobs=-1)\n",
    "\n",
    "# # Fit the model\n",
    "# grid_search.fit(X_train, y_train)\n",
    "\n",
    "# # Get the best model\n",
    "# best_model = grid_search.best_estimator_\n",
    "\n",
    "# # Make predictions on the test set\n",
    "# y_pred = best_model.predict(X_test)\n",
    "\n",
    "# # Evaluate the model\n",
    "# mse = mean_squared_error(y_test, y_pred)\n",
    "# print(f'Mean Squared Error on Test Set: {mse}')\n",
    "\n",
    "# # Display best parameters\n",
    "# best_params = grid_search.best_params_\n",
    "# print(f\"Best Hyperparameters: {best_params}\")\n"
   ]
  },
  {
   "cell_type": "code",
   "execution_count": 157,
   "id": "b56d3b6d",
   "metadata": {},
   "outputs": [
    {
     "name": "stdout",
     "output_type": "stream",
     "text": [
      "Mean Squared Error on Test Set: 5811458.150071523\n",
      "Best Hyperparameters: {'learning_rate': 0.19186408041575642, 'max_depth': 4, 'min_samples_leaf': 4, 'min_samples_split': 5, 'n_estimators': 51, 'subsample': 0.885031174898249}\n"
     ]
    }
   ],
   "source": [
    "# ----------------------> RnadomSearch CV\n",
    "X = df.drop('highest_value', axis=1)\n",
    "y = df['highest_value']\n",
    "\n",
    "# Split the data into training and testing sets\n",
    "X_train, X_test, y_train, y_test = train_test_split(X, y, test_size=0.2, random_state=42)\n",
    "print(X_train[:1])\n",
    "\n",
    "# Standardizinng them\n",
    "scaler = StandardScaler()\n",
    "X_train = scaler.fit_transform(X_train)\n",
    "X_test = scaler.transform(X_test)\n",
    "param_dist = {\n",
    "    'n_estimators': randint(50, 200),\n",
    "    'learning_rate': uniform(0.01, 0.2),\n",
    "    'max_depth': randint(3, 6),\n",
    "    'min_samples_split': randint(2, 11),\n",
    "    'min_samples_leaf': randint(1, 5),\n",
    "    'subsample': uniform(0.8, 0.2)\n",
    "}\n",
    "\n",
    "# Create the RandomizedSearchCV object\n",
    "random_search = RandomizedSearchCV(estimator=gb_regressor, param_distributions=param_dist, \n",
    "                                     n_iter=10, scoring='neg_mean_squared_error', cv=5, n_jobs=-1, random_state=42)\n",
    "\n",
    "# Fit the model\n",
    "random_search.fit(X_train, y_train)\n",
    "\n",
    "# Get the best model\n",
    "best_model = random_search.best_estimator_\n",
    "\n",
    "# Make predictions on the test set\n",
    "y_pred = best_model.predict(X_test)\n",
    "\n",
    "# Evaluate the model\n",
    "mse = mean_squared_error(y_test, y_pred,squared=False)\n",
    "print(f'Mean Squared Error on Test Set: {mse}')\n",
    "\n",
    "# Additional information about the best hyperparameters\n",
    "best_params = random_search.best_params_\n",
    "print(f\"Best Hyperparameters: {best_params}\")"
   ]
  },
  {
   "cell_type": "code",
   "execution_count": 161,
   "id": "07d4e1df",
   "metadata": {},
   "outputs": [
    {
     "data": {
      "text/plain": [
       "array([[ 1.0331423 ,  0.15773166,  0.09988308, -0.53369165,  1.41380666,\n",
       "         1.54037887,  0.78932607,  0.87723209]])"
      ]
     },
     "execution_count": 161,
     "metadata": {},
     "output_type": "execute_result"
    }
   ],
   "source": [
    "X_train[:1]"
   ]
  },
  {
   "cell_type": "markdown",
   "id": "e80d240c",
   "metadata": {},
   "source": [
    "### SAVING MODEL "
   ]
  },
  {
   "cell_type": "code",
   "execution_count": 158,
   "id": "a3fefbf5",
   "metadata": {},
   "outputs": [],
   "source": [
    "import pickle\n",
    "\n",
    "# Assuming 'your_model' is your scikit-learn model\n",
    "# Save the model to a file\n",
    "with open('model.pkl', 'wb') as file:\n",
    "    pickle.dump(best_model, file)"
   ]
  },
  {
   "cell_type": "code",
   "execution_count": 159,
   "id": "db530c14",
   "metadata": {},
   "outputs": [
    {
     "data": {
      "text/plain": [
       "['scaler.joblib']"
      ]
     },
     "execution_count": 159,
     "metadata": {},
     "output_type": "execute_result"
    }
   ],
   "source": [
    "import joblib\n",
    "\n",
    "joblib.dump(scaler, 'scaler.joblib')\n"
   ]
  },
  {
   "cell_type": "code",
   "execution_count": 71,
   "id": "b258750b",
   "metadata": {},
   "outputs": [
    {
     "name": "stdout",
     "output_type": "stream",
     "text": [
      "Name: scikit-learn\n",
      "Version: 1.2.2\n",
      "Summary: A set of python modules for machine learning and data mining\n",
      "Home-page: http://scikit-learn.org\n",
      "Author: \n",
      "Author-email: \n",
      "License: new BSD\n",
      "Location: c:\\users\\91897\\anaconda3\\lib\\site-packages\n",
      "Requires: joblib, numpy, scipy, threadpoolctl\n",
      "Required-by: dtale, lazypredict, mlxtend, scikit-learn-intelex\n",
      "Note: you may need to restart the kernel to use updated packages.\n"
     ]
    },
    {
     "name": "stderr",
     "output_type": "stream",
     "text": [
      "WARNING: Ignoring invalid distribution -rotobuf (c:\\users\\91897\\anaconda3\\lib\\site-packages)\n",
      "WARNING: Ignoring invalid distribution -treamlit (c:\\users\\91897\\anaconda3\\lib\\site-packages)\n"
     ]
    }
   ],
   "source": [
    "pip show scikit-learn\n"
   ]
  },
  {
   "cell_type": "code",
   "execution_count": 39,
   "id": "fe9d2097",
   "metadata": {},
   "outputs": [
    {
     "data": {
      "text/plain": [
       "['scaler.joblib']"
      ]
     },
     "execution_count": 39,
     "metadata": {},
     "output_type": "execute_result"
    }
   ],
   "source": [
    "joblib.dump(scaler, 'scaler.joblib')"
   ]
  },
  {
   "cell_type": "markdown",
   "id": "300e2579",
   "metadata": {},
   "source": [
    "### TESTING MY MODEL "
   ]
  },
  {
   "cell_type": "code",
   "execution_count": 38,
   "id": "80cc4058",
   "metadata": {},
   "outputs": [
    {
     "data": {
      "text/plain": [
       "Index(['age', 'current_value', 'highest_value', 'team_Al-Batin FC',\n",
       "       'team_Botafogo de Futebol e Regatas', 'team_Daegu FC',\n",
       "       'team_Daejeon Hana Citizen', 'team_FC Seoul', 'team_FC Tokyo',\n",
       "       'team_Gangwon FC', 'team_Incheon United', 'team_Jeonbuk Hyundai Motors',\n",
       "       'team_Kashiwa Reysol', 'team_Mamelodi Sundowns FC',\n",
       "       'team_Marumo Gallants FC', 'team_Other', 'team_Royal AM FC',\n",
       "       'team_Sagan Tosu', 'team_Santos FC', 'team_Suwon Samsung Bluewings',\n",
       "       'team_Swallows FC', 'team_São Paulo Futebol Clube', 'team_Vissel Kobe',\n",
       "       'team_Yokohama FC', 'position_encoded', 'appearance_median',\n",
       "       'minutes_played_boxcox', 'games_injured_binary', 'award_binary'],\n",
       "      dtype='object')"
      ]
     },
     "execution_count": 38,
     "metadata": {},
     "output_type": "execute_result"
    }
   ],
   "source": [
    "df.columns\n"
   ]
  },
  {
   "cell_type": "code",
   "execution_count": 45,
   "id": "2e982f1b",
   "metadata": {},
   "outputs": [],
   "source": [
    "pd.set_option('display.max_columns', 100)\n",
    "\n",
    "# To display more rows (e.g., 100)\n",
    "pd.set_option('display.max_rows', 100)"
   ]
  },
  {
   "cell_type": "code",
   "execution_count": 40,
   "id": "7747ab77",
   "metadata": {},
   "outputs": [],
   "source": [
    "X = df.drop('highest_value', axis=1)\n",
    "y = df['highest_value']\n",
    "\n",
    "# Split the data into training and testing sets\n",
    "X_train, X_test, y_train, y_test = train_test_split(X, y, test_size=0.2, random_state=42)"
   ]
  },
  {
   "cell_type": "code",
   "execution_count": 69,
   "id": "30f6d956",
   "metadata": {},
   "outputs": [
    {
     "data": {
      "text/plain": [
       "Index(['age', 'current_value', 'team_Al-Batin FC',\n",
       "       'team_Botafogo de Futebol e Regatas', 'team_Daegu FC',\n",
       "       'team_Daejeon Hana Citizen', 'team_FC Seoul', 'team_FC Tokyo',\n",
       "       'team_Gangwon FC', 'team_Incheon United', 'team_Jeonbuk Hyundai Motors',\n",
       "       'team_Kashiwa Reysol', 'team_Mamelodi Sundowns FC',\n",
       "       'team_Marumo Gallants FC', 'team_Other', 'team_Royal AM FC',\n",
       "       'team_Sagan Tosu', 'team_Santos FC', 'team_Suwon Samsung Bluewings',\n",
       "       'team_Swallows FC', 'team_São Paulo Futebol Clube', 'team_Vissel Kobe',\n",
       "       'team_Yokohama FC', 'position_encoded', 'appearance_median',\n",
       "       'minutes_played_boxcox', 'games_injured_binary', 'award_binary'],\n",
       "      dtype='object')"
      ]
     },
     "execution_count": 69,
     "metadata": {},
     "output_type": "execute_result"
    }
   ],
   "source": [
    "X_train[:5].columns"
   ]
  },
  {
   "cell_type": "code",
   "execution_count": 63,
   "id": "40002cd7",
   "metadata": {},
   "outputs": [
    {
     "data": {
      "text/plain": [
       "1097    20000000\n",
       "9351      125000\n",
       "6887     4500000\n",
       "334     20000000\n",
       "1613    15000000\n",
       "Name: highest_value, dtype: int64"
      ]
     },
     "execution_count": 63,
     "metadata": {},
     "output_type": "execute_result"
    }
   ],
   "source": [
    "y_train[:5]"
   ]
  },
  {
   "cell_type": "code",
   "execution_count": 65,
   "id": "b33b718c",
   "metadata": {},
   "outputs": [],
   "source": [
    "test = np.array([24.0,6500000,0,0,0,0,0,0,0,0,0,0,0,0,1,0,0,0,0,0,0,0,0,1,53,79.493740,1,1])\n",
    "test_array = test.reshape(1,-1)"
   ]
  },
  {
   "cell_type": "code",
   "execution_count": 66,
   "id": "67667e97",
   "metadata": {},
   "outputs": [],
   "source": [
    "scaler = joblib.load('scaler.pkl')\n",
    "test_array_scaled = scaler.transform(test_array)"
   ]
  },
  {
   "cell_type": "code",
   "execution_count": 67,
   "id": "647e69cc",
   "metadata": {},
   "outputs": [],
   "source": [
    "model = joblib.load('my_model.pkl')"
   ]
  },
  {
   "cell_type": "code",
   "execution_count": 68,
   "id": "7f28ab19",
   "metadata": {},
   "outputs": [
    {
     "data": {
      "text/plain": [
       "array([10882780.5563664])"
      ]
     },
     "execution_count": 68,
     "metadata": {},
     "output_type": "execute_result"
    }
   ],
   "source": [
    "model.predict(test_array_scaled)"
   ]
  },
  {
   "cell_type": "code",
   "execution_count": null,
   "id": "951d44c7",
   "metadata": {},
   "outputs": [],
   "source": []
  }
 ],
 "metadata": {
  "kernelspec": {
   "display_name": "Python 3 (ipykernel)",
   "language": "python",
   "name": "python3"
  },
  "language_info": {
   "codemirror_mode": {
    "name": "ipython",
    "version": 3
   },
   "file_extension": ".py",
   "mimetype": "text/x-python",
   "name": "python",
   "nbconvert_exporter": "python",
   "pygments_lexer": "ipython3",
   "version": "3.9.13"
  }
 },
 "nbformat": 4,
 "nbformat_minor": 5
}
